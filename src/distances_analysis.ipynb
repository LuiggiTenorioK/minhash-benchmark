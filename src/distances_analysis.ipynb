{
 "cells": [
  {
   "cell_type": "code",
   "execution_count": 1,
   "id": "f616d80c",
   "metadata": {},
   "outputs": [],
   "source": [
    "import pandas as pd\n",
    "import numpy as np\n",
    "import seaborn as sns\n",
    "from scipy import stats\n",
    "import statsmodels.api as sm\n",
    "from statsmodels.distributions.empirical_distribution import ECDF\n",
    "from matplotlib import pyplot as plt\n",
    "import json\n",
    "import gc\n",
    "import os"
   ]
  },
  {
   "cell_type": "code",
   "execution_count": 2,
   "id": "12e88ba1",
   "metadata": {},
   "outputs": [
    {
     "data": {
      "text/plain": [
       "0"
      ]
     },
     "execution_count": 2,
     "metadata": {},
     "output_type": "execute_result"
    }
   ],
   "source": [
    "gc.collect()"
   ]
  },
  {
   "cell_type": "code",
   "execution_count": 3,
   "id": "46ffe5f0",
   "metadata": {},
   "outputs": [
    {
     "data": {
      "text/html": [
       "<div>\n",
       "<style scoped>\n",
       "    .dataframe tbody tr th:only-of-type {\n",
       "        vertical-align: middle;\n",
       "    }\n",
       "\n",
       "    .dataframe tbody tr th {\n",
       "        vertical-align: top;\n",
       "    }\n",
       "\n",
       "    .dataframe thead th {\n",
       "        text-align: right;\n",
       "    }\n",
       "</style>\n",
       "<table border=\"1\" class=\"dataframe\">\n",
       "  <thead>\n",
       "    <tr style=\"text-align: right;\">\n",
       "      <th></th>\n",
       "      <th>sample_id</th>\n",
       "      <th>read_id</th>\n",
       "    </tr>\n",
       "  </thead>\n",
       "  <tbody>\n",
       "    <tr>\n",
       "      <th>0</th>\n",
       "      <td>GS003</td>\n",
       "      <td>JCVI_READ_1091145030183</td>\n",
       "    </tr>\n",
       "    <tr>\n",
       "      <th>1</th>\n",
       "      <td>GS003</td>\n",
       "      <td>JCVI_READ_1095403403926</td>\n",
       "    </tr>\n",
       "    <tr>\n",
       "      <th>2</th>\n",
       "      <td>GS003</td>\n",
       "      <td>JCVI_READ_1095403478765</td>\n",
       "    </tr>\n",
       "    <tr>\n",
       "      <th>3</th>\n",
       "      <td>GS003</td>\n",
       "      <td>JCVI_READ_1095403421433</td>\n",
       "    </tr>\n",
       "    <tr>\n",
       "      <th>4</th>\n",
       "      <td>GS003</td>\n",
       "      <td>JCVI_READ_1095403403927</td>\n",
       "    </tr>\n",
       "    <tr>\n",
       "      <th>...</th>\n",
       "      <td>...</td>\n",
       "      <td>...</td>\n",
       "    </tr>\n",
       "    <tr>\n",
       "      <th>29995</th>\n",
       "      <td>GS037</td>\n",
       "      <td>JCVI_READ_1095964463383</td>\n",
       "    </tr>\n",
       "    <tr>\n",
       "      <th>29996</th>\n",
       "      <td>GS037</td>\n",
       "      <td>JCVI_READ_1095964465303</td>\n",
       "    </tr>\n",
       "    <tr>\n",
       "      <th>29997</th>\n",
       "      <td>GS037</td>\n",
       "      <td>JCVI_READ_1095964452922</td>\n",
       "    </tr>\n",
       "    <tr>\n",
       "      <th>29998</th>\n",
       "      <td>GS037</td>\n",
       "      <td>JCVI_READ_1095964451194</td>\n",
       "    </tr>\n",
       "    <tr>\n",
       "      <th>29999</th>\n",
       "      <td>GS037</td>\n",
       "      <td>JCVI_READ_1095964463384</td>\n",
       "    </tr>\n",
       "  </tbody>\n",
       "</table>\n",
       "<p>30000 rows × 2 columns</p>\n",
       "</div>"
      ],
      "text/plain": [
       "      sample_id                  read_id\n",
       "0         GS003  JCVI_READ_1091145030183\n",
       "1         GS003  JCVI_READ_1095403403926\n",
       "2         GS003  JCVI_READ_1095403478765\n",
       "3         GS003  JCVI_READ_1095403421433\n",
       "4         GS003  JCVI_READ_1095403403927\n",
       "...         ...                      ...\n",
       "29995     GS037  JCVI_READ_1095964463383\n",
       "29996     GS037  JCVI_READ_1095964465303\n",
       "29997     GS037  JCVI_READ_1095964452922\n",
       "29998     GS037  JCVI_READ_1095964451194\n",
       "29999     GS037  JCVI_READ_1095964463384\n",
       "\n",
       "[30000 rows x 2 columns]"
      ]
     },
     "execution_count": 3,
     "metadata": {},
     "output_type": "execute_result"
    }
   ],
   "source": [
    "with open(\"../data/samples/read_ids.json\", \"r\") as f:\n",
    "    read_ids = json.load(f)\n",
    "    \n",
    "read_ids = [[{\"sample_id\": sample_id, \"read_id\": read_id} for read_id in read_ids[sample_id]] for sample_id in read_ids]\n",
    "\n",
    "read_ids_df = pd.DataFrame(read_ids[0] + read_ids[1] + read_ids[2])\n",
    "read_ids_df"
   ]
  },
  {
   "cell_type": "markdown",
   "id": "393d039f",
   "metadata": {},
   "source": [
    "# MASH"
   ]
  },
  {
   "cell_type": "code",
   "execution_count": 4,
   "id": "732fcab4",
   "metadata": {},
   "outputs": [],
   "source": [
    "def calculate_mash_mindist(path):\n",
    "    reg = {}\n",
    "\n",
    "    with open(path, \"r\") as f:\n",
    "\n",
    "        count = 0\n",
    "        for line in f:\n",
    "            rec = line.split(\"\\t\")\n",
    "            distance = float(rec[2])\n",
    "\n",
    "            if reg.get(rec[0]) == None:\n",
    "                reg[rec[0]] = 1\n",
    "            elif reg.get(rec[0]) > distance:\n",
    "                reg[rec[0]] = distance\n",
    "\n",
    "            if reg.get(rec[1]) == None:\n",
    "                reg[rec[1]] = 1\n",
    "            elif reg.get(rec[1]) > distance:\n",
    "                reg[rec[1]] = distance\n",
    "\n",
    "\n",
    "            count += 1\n",
    "            if count % int(10e6) == 0:\n",
    "                print(count)\n",
    "                \n",
    "    return pd.DataFrame([{\n",
    "        'read_id': x,\n",
    "        'mindist': reg[x]\n",
    "    } for x in reg])\n",
    "\n",
    "def get_jaccard_estimate(vals, K):\n",
    "    return np.exp(-1*K*vals)/(2-np.exp(-1*K*vals))"
   ]
  },
  {
   "cell_type": "markdown",
   "id": "094f5e38",
   "metadata": {},
   "source": [
    "### GS003_GS005"
   ]
  },
  {
   "cell_type": "code",
   "execution_count": 5,
   "id": "5b542061",
   "metadata": {},
   "outputs": [
    {
     "data": {
      "text/html": [
       "<div>\n",
       "<style scoped>\n",
       "    .dataframe tbody tr th:only-of-type {\n",
       "        vertical-align: middle;\n",
       "    }\n",
       "\n",
       "    .dataframe tbody tr th {\n",
       "        vertical-align: top;\n",
       "    }\n",
       "\n",
       "    .dataframe thead th {\n",
       "        text-align: right;\n",
       "    }\n",
       "</style>\n",
       "<table border=\"1\" class=\"dataframe\">\n",
       "  <thead>\n",
       "    <tr style=\"text-align: right;\">\n",
       "      <th></th>\n",
       "      <th>read_id</th>\n",
       "      <th>mindist</th>\n",
       "    </tr>\n",
       "  </thead>\n",
       "  <tbody>\n",
       "    <tr>\n",
       "      <th>0</th>\n",
       "      <td>JCVI_READ_1091145030183</td>\n",
       "      <td>0.235138</td>\n",
       "    </tr>\n",
       "    <tr>\n",
       "      <th>1</th>\n",
       "      <td>JCVI_READ_1091150264015</td>\n",
       "      <td>0.235138</td>\n",
       "    </tr>\n",
       "    <tr>\n",
       "      <th>2</th>\n",
       "      <td>JCVI_READ_1095403403926</td>\n",
       "      <td>0.284297</td>\n",
       "    </tr>\n",
       "    <tr>\n",
       "      <th>3</th>\n",
       "      <td>JCVI_READ_1095403478765</td>\n",
       "      <td>0.256495</td>\n",
       "    </tr>\n",
       "    <tr>\n",
       "      <th>4</th>\n",
       "      <td>JCVI_READ_1095403421433</td>\n",
       "      <td>0.256495</td>\n",
       "    </tr>\n",
       "    <tr>\n",
       "      <th>...</th>\n",
       "      <td>...</td>\n",
       "      <td>...</td>\n",
       "    </tr>\n",
       "    <tr>\n",
       "      <th>19995</th>\n",
       "      <td>JCVI_READ_1091143643227</td>\n",
       "      <td>0.284297</td>\n",
       "    </tr>\n",
       "    <tr>\n",
       "      <th>19996</th>\n",
       "      <td>JCVI_READ_1091143669563</td>\n",
       "      <td>0.256495</td>\n",
       "    </tr>\n",
       "    <tr>\n",
       "      <th>19997</th>\n",
       "      <td>JCVI_READ_1091143669564</td>\n",
       "      <td>0.284297</td>\n",
       "    </tr>\n",
       "    <tr>\n",
       "      <th>19998</th>\n",
       "      <td>JCVI_READ_1091143643228</td>\n",
       "      <td>0.256495</td>\n",
       "    </tr>\n",
       "    <tr>\n",
       "      <th>19999</th>\n",
       "      <td>JCVI_READ_1091143676477</td>\n",
       "      <td>0.235138</td>\n",
       "    </tr>\n",
       "  </tbody>\n",
       "</table>\n",
       "<p>20000 rows × 2 columns</p>\n",
       "</div>"
      ],
      "text/plain": [
       "                       read_id   mindist\n",
       "0      JCVI_READ_1091145030183  0.235138\n",
       "1      JCVI_READ_1091150264015  0.235138\n",
       "2      JCVI_READ_1095403403926  0.284297\n",
       "3      JCVI_READ_1095403478765  0.256495\n",
       "4      JCVI_READ_1095403421433  0.256495\n",
       "...                        ...       ...\n",
       "19995  JCVI_READ_1091143643227  0.284297\n",
       "19996  JCVI_READ_1091143669563  0.256495\n",
       "19997  JCVI_READ_1091143669564  0.284297\n",
       "19998  JCVI_READ_1091143643228  0.256495\n",
       "19999  JCVI_READ_1091143676477  0.235138\n",
       "\n",
       "[20000 rows x 2 columns]"
      ]
     },
     "execution_count": 5,
     "metadata": {},
     "output_type": "execute_result"
    }
   ],
   "source": [
    "aux_mindist_path = \"../distances/mash-k10-s100/GS003_GS005.mindist\"\n",
    "if os.path.exists(aux_mindist_path):\n",
    "    mash_min_GS003_GS005_df = pd.read_csv(aux_mindist_path)\n",
    "else:\n",
    "    mash_min_GS003_GS005_df = calculate_mash_mindist(\"../distances/mash-k10-s100/GS003_GS005.dist\")\n",
    "    mash_min_GS003_GS005_df.to_csv(aux_mindist_path, index=False)\n",
    "    \n",
    "mash_min_GS003_GS005_df"
   ]
  },
  {
   "cell_type": "code",
   "execution_count": 6,
   "id": "8031d6e5",
   "metadata": {},
   "outputs": [
    {
     "name": "stdout",
     "output_type": "stream",
     "text": [
      "0.24512576852\n"
     ]
    },
    {
     "data": {
      "image/png": "[encoded data removed]",
      "text/plain": [
       "<Figure size 864x576 with 1 Axes>"
      ]
     },
     "metadata": {
      "needs_background": "light"
     },
     "output_type": "display_data"
    }
   ],
   "source": [
    "aux_df = mash_min_GS003_GS005_df.merge(read_ids_df, how='left', on=\"read_id\")\n",
    "print(aux_df[aux_df[\"sample_id\"] == \"GS003\"][\"mindist\"].values.mean())\n",
    "plt.figure(figsize=(12,8))\n",
    "sns.histplot(aux_df[aux_df[\"sample_id\"] == \"GS003\"][\"mindist\"].values, kde=True, bins=30)\n",
    "plt.xlabel(\"Mash distance\", fontsize=12)\n",
    "plt.ylabel(\"Count\", fontsize=12)\n",
    "plt.show()"
   ]
  },
  {
   "cell_type": "code",
   "execution_count": 7,
   "id": "1c83762c",
   "metadata": {},
   "outputs": [
    {
     "data": {
      "image/png": "[encoded data removed]",
      "text/plain": [
       "<Figure size 864x576 with 1 Axes>"
      ]
     },
     "metadata": {
      "needs_background": "light"
     },
     "output_type": "display_data"
    }
   ],
   "source": [
    "vals = get_jaccard_estimate(aux_df[aux_df[\"sample_id\"] == \"GS003\"][\"mindist\"].values, 10)\n",
    "plt.figure(figsize=(12,8))\n",
    "sns.histplot(vals, kde=True, bins=30)\n",
    "plt.xlabel(\"Jaccard estimate\", fontsize=12)\n",
    "plt.ylabel(\"Count\", fontsize=12)\n",
    "plt.show()"
   ]
  },
  {
   "cell_type": "markdown",
   "id": "4d1dc52a",
   "metadata": {},
   "source": [
    "### GS003_GS037"
   ]
  },
  {
   "cell_type": "code",
   "execution_count": 8,
   "id": "1fee8012",
   "metadata": {
    "scrolled": true
   },
   "outputs": [
    {
     "data": {
      "text/html": [
       "<div>\n",
       "<style scoped>\n",
       "    .dataframe tbody tr th:only-of-type {\n",
       "        vertical-align: middle;\n",
       "    }\n",
       "\n",
       "    .dataframe tbody tr th {\n",
       "        vertical-align: top;\n",
       "    }\n",
       "\n",
       "    .dataframe thead th {\n",
       "        text-align: right;\n",
       "    }\n",
       "</style>\n",
       "<table border=\"1\" class=\"dataframe\">\n",
       "  <thead>\n",
       "    <tr style=\"text-align: right;\">\n",
       "      <th></th>\n",
       "      <th>read_id</th>\n",
       "      <th>mindist</th>\n",
       "    </tr>\n",
       "  </thead>\n",
       "  <tbody>\n",
       "    <tr>\n",
       "      <th>0</th>\n",
       "      <td>JCVI_READ_1091145030183</td>\n",
       "      <td>0.256495</td>\n",
       "    </tr>\n",
       "    <tr>\n",
       "      <th>1</th>\n",
       "      <td>JCVI_READ_1096013066145</td>\n",
       "      <td>0.235138</td>\n",
       "    </tr>\n",
       "    <tr>\n",
       "      <th>2</th>\n",
       "      <td>JCVI_READ_1095403403926</td>\n",
       "      <td>0.284297</td>\n",
       "    </tr>\n",
       "    <tr>\n",
       "      <th>3</th>\n",
       "      <td>JCVI_READ_1095403478765</td>\n",
       "      <td>0.256495</td>\n",
       "    </tr>\n",
       "    <tr>\n",
       "      <th>4</th>\n",
       "      <td>JCVI_READ_1095403421433</td>\n",
       "      <td>0.256495</td>\n",
       "    </tr>\n",
       "    <tr>\n",
       "      <th>...</th>\n",
       "      <td>...</td>\n",
       "      <td>...</td>\n",
       "    </tr>\n",
       "    <tr>\n",
       "      <th>19995</th>\n",
       "      <td>JCVI_READ_1095964463383</td>\n",
       "      <td>0.235138</td>\n",
       "    </tr>\n",
       "    <tr>\n",
       "      <th>19996</th>\n",
       "      <td>JCVI_READ_1095964465303</td>\n",
       "      <td>0.203377</td>\n",
       "    </tr>\n",
       "    <tr>\n",
       "      <th>19997</th>\n",
       "      <td>JCVI_READ_1095964452922</td>\n",
       "      <td>0.217853</td>\n",
       "    </tr>\n",
       "    <tr>\n",
       "      <th>19998</th>\n",
       "      <td>JCVI_READ_1095964451194</td>\n",
       "      <td>0.217853</td>\n",
       "    </tr>\n",
       "    <tr>\n",
       "      <th>19999</th>\n",
       "      <td>JCVI_READ_1095964463384</td>\n",
       "      <td>0.256495</td>\n",
       "    </tr>\n",
       "  </tbody>\n",
       "</table>\n",
       "<p>20000 rows × 2 columns</p>\n",
       "</div>"
      ],
      "text/plain": [
       "                       read_id   mindist\n",
       "0      JCVI_READ_1091145030183  0.256495\n",
       "1      JCVI_READ_1096013066145  0.235138\n",
       "2      JCVI_READ_1095403403926  0.284297\n",
       "3      JCVI_READ_1095403478765  0.256495\n",
       "4      JCVI_READ_1095403421433  0.256495\n",
       "...                        ...       ...\n",
       "19995  JCVI_READ_1095964463383  0.235138\n",
       "19996  JCVI_READ_1095964465303  0.203377\n",
       "19997  JCVI_READ_1095964452922  0.217853\n",
       "19998  JCVI_READ_1095964451194  0.217853\n",
       "19999  JCVI_READ_1095964463384  0.256495\n",
       "\n",
       "[20000 rows x 2 columns]"
      ]
     },
     "execution_count": 8,
     "metadata": {},
     "output_type": "execute_result"
    }
   ],
   "source": [
    "aux_mindist_path = \"../distances/mash-k10-s100/GS003_GS037.mindist\"\n",
    "if os.path.exists(aux_mindist_path):\n",
    "    mash_min_GS003_GS037_df = pd.read_csv(aux_mindist_path)\n",
    "else:\n",
    "    mash_min_GS003_GS037_df = calculate_mash_mindist(\"../distances/mash-k10-s100/GS003_GS037.dist\")\n",
    "    mash_min_GS003_GS037_df.to_csv(aux_mindist_path, index=False)\n",
    "    \n",
    "mash_min_GS003_GS037_df"
   ]
  },
  {
   "cell_type": "code",
   "execution_count": 9,
   "id": "21852e96",
   "metadata": {},
   "outputs": [
    {
     "name": "stdout",
     "output_type": "stream",
     "text": [
      "0.24992508219\n"
     ]
    },
    {
     "data": {
      "image/png": "[encoded data removed]",
      "text/plain": [
       "<Figure size 864x576 with 1 Axes>"
      ]
     },
     "metadata": {
      "needs_background": "light"
     },
     "output_type": "display_data"
    }
   ],
   "source": [
    "aux_df = mash_min_GS003_GS037_df.merge(read_ids_df, how='left', on=\"read_id\")\n",
    "print(aux_df[aux_df[\"sample_id\"] == \"GS003\"][\"mindist\"].values.mean())\n",
    "plt.figure(figsize=(12,8))\n",
    "sns.histplot(aux_df[aux_df[\"sample_id\"] == \"GS003\"][\"mindist\"].values, kde=True, bins=30)\n",
    "plt.xlabel(\"Mash distance\", fontsize=12)\n",
    "plt.ylabel(\"Count\", fontsize=12)\n",
    "plt.show()"
   ]
  },
  {
   "cell_type": "code",
   "execution_count": 10,
   "id": "70bffca9",
   "metadata": {},
   "outputs": [
    {
     "data": {
      "image/png": "[encoded data removed]",
      "text/plain": [
       "<Figure size 864x576 with 1 Axes>"
      ]
     },
     "metadata": {
      "needs_background": "light"
     },
     "output_type": "display_data"
    }
   ],
   "source": [
    "vals = get_jaccard_estimate(aux_df[aux_df[\"sample_id\"] == \"GS003\"][\"mindist\"].values, 10)\n",
    "plt.figure(figsize=(12,8))\n",
    "sns.histplot(vals, kde=True, bins=30)\n",
    "plt.xlabel(\"Jaccard estimate\", fontsize=12)\n",
    "plt.ylabel(\"Count\", fontsize=12)\n",
    "plt.show()"
   ]
  },
  {
   "cell_type": "code",
   "execution_count": 11,
   "id": "a51d434e",
   "metadata": {},
   "outputs": [
    {
     "name": "stdout",
     "output_type": "stream",
     "text": [
      "KstestResult(statistic=0.521842141928761, pvalue=0.0)\n",
      "KstestResult(statistic=0.5596621836468985, pvalue=0.0)\n"
     ]
    },
    {
     "data": {
      "text/plain": [
       "Ttest_indResult(statistic=-9.457991135085733, pvalue=1.7555517349995687e-21)"
      ]
     },
     "execution_count": 11,
     "metadata": {},
     "output_type": "execute_result"
    }
   ],
   "source": [
    "sv1 = mash_min_GS003_GS005_df.merge(read_ids_df, how='left', on=\"read_id\")\n",
    "sv1 = sv1[sv1[\"sample_id\"] == \"GS003\"][\"mindist\"].values\n",
    "sv2 = mash_min_GS003_GS037_df.merge(read_ids_df, how='left', on=\"read_id\")\n",
    "sv2 = sv2[sv2[\"sample_id\"] == \"GS003\"][\"mindist\"].values\n",
    "\n",
    "jsv1 = get_jaccard_estimate(sv1, 10)\n",
    "jsv2 = get_jaccard_estimate(sv2, 10)\n",
    "\n",
    "print(stats.kstest(sv1, 'norm'))\n",
    "print(stats.kstest(sv2, 'norm'))\n",
    "\n",
    "stats.ttest_ind(sv1,sv2, equal_var=False, alternative='less')"
   ]
  },
  {
   "cell_type": "code",
   "execution_count": 12,
   "id": "037863ee",
   "metadata": {},
   "outputs": [
    {
     "data": {
      "image/png": "[encoded data removed]",
      "text/plain": [
       "<Figure size 432x288 with 1 Axes>"
      ]
     },
     "metadata": {
      "needs_background": "light"
     },
     "output_type": "display_data"
    }
   ],
   "source": [
    "fig = sm.qqplot(sv1, line='45')"
   ]
  },
  {
   "cell_type": "code",
   "execution_count": 16,
   "id": "88f94b31",
   "metadata": {},
   "outputs": [
    {
     "data": {
      "image/png": "[encoded data removed]",
      "text/plain": [
       "<Figure size 864x576 with 1 Axes>"
      ]
     },
     "metadata": {
      "needs_background": "light"
     },
     "output_type": "display_data"
    }
   ],
   "source": [
    "plt.figure(figsize=(12,8))\n",
    "sns.boxplot(data=pd.DataFrame(np.array([sv1,sv2]).T, columns=[\"GS003_GS005\",\"GS003_GS037\"]), \n",
    "            orient='h', fliersize=1, whis=2).set(xlabel=\"Mash distance\")\n",
    "plt.xlabel(\"Mash distance\", fontsize=12)\n",
    "plt.show()"
   ]
  },
  {
   "cell_type": "code",
   "execution_count": 15,
   "id": "2fab1c1f",
   "metadata": {},
   "outputs": [
    {
     "data": {
      "image/png": "[encoded data removed]",
      "text/plain": [
       "<Figure size 864x576 with 1 Axes>"
      ]
     },
     "metadata": {
      "needs_background": "light"
     },
     "output_type": "display_data"
    }
   ],
   "source": [
    "plt.figure(figsize=(12,8))\n",
    "sns.boxplot(data=pd.DataFrame(np.array([jsv1,jsv2]).T, columns=[\"GS003_GS005\",\"GS003_GS037\"]), \n",
    "            orient='h', fliersize=1, whis=2).set(xlabel=\"Jaccard estimate\")\n",
    "plt.xlabel(\"Jaccard estimate\", fontsize=12)\n",
    "plt.show()"
   ]
  },
  {
   "cell_type": "code",
   "execution_count": 30,
   "id": "80a2b1f4",
   "metadata": {},
   "outputs": [
    {
     "data": {
      "image/png": "[encoded data removed]",
      "text/plain": [
       "<Figure size 864x576 with 1 Axes>"
      ]
     },
     "metadata": {
      "needs_background": "light"
     },
     "output_type": "display_data"
    }
   ],
   "source": [
    "ecdf1 = ECDF(sv1)\n",
    "ecdf2 = ECDF(sv2)\n",
    "plt.figure(figsize=(12,8))\n",
    "plt.plot(ecdf1.x, ecdf1.y)\n",
    "plt.plot(ecdf2.x, ecdf2.y)\n",
    "plt.show()"
   ]
  },
  {
   "cell_type": "markdown",
   "id": "bc78efc7",
   "metadata": {},
   "source": [
    "# OMH"
   ]
  },
  {
   "cell_type": "code",
   "execution_count": 38,
   "id": "2510fa4e",
   "metadata": {},
   "outputs": [],
   "source": [
    "def calculate_omh_mindist(path):\n",
    "    reg = {}\n",
    "\n",
    "    with open(path, \"r\") as f:\n",
    "\n",
    "        count = 0\n",
    "        for line in f:\n",
    "            rec = line.split(\" \")\n",
    "            distance = float(rec[2])\n",
    "\n",
    "            if reg.get(rec[0]) == None:\n",
    "                reg[rec[0]] = 0\n",
    "            elif reg.get(rec[0]) < distance:\n",
    "                reg[rec[0]] = distance\n",
    "\n",
    "            if reg.get(rec[1]) == None:\n",
    "                reg[rec[1]] = 0\n",
    "            elif reg.get(rec[1]) < distance:\n",
    "                reg[rec[1]] = distance\n",
    "\n",
    "\n",
    "            count += 1\n",
    "            if count % int(10e6) == 0:\n",
    "                print(count)\n",
    "                \n",
    "    return pd.DataFrame([{\n",
    "        'read_id': x,\n",
    "        'mindist': reg[x]\n",
    "    } for x in reg])"
   ]
  },
  {
   "cell_type": "markdown",
   "id": "f2b39a92",
   "metadata": {},
   "source": [
    "### GS003_GS005"
   ]
  },
  {
   "cell_type": "code",
   "execution_count": 17,
   "id": "76d0cc88",
   "metadata": {
    "scrolled": true
   },
   "outputs": [
    {
     "data": {
      "text/html": [
       "<div>\n",
       "<style scoped>\n",
       "    .dataframe tbody tr th:only-of-type {\n",
       "        vertical-align: middle;\n",
       "    }\n",
       "\n",
       "    .dataframe tbody tr th {\n",
       "        vertical-align: top;\n",
       "    }\n",
       "\n",
       "    .dataframe thead th {\n",
       "        text-align: right;\n",
       "    }\n",
       "</style>\n",
       "<table border=\"1\" class=\"dataframe\">\n",
       "  <thead>\n",
       "    <tr style=\"text-align: right;\">\n",
       "      <th></th>\n",
       "      <th>read_id</th>\n",
       "      <th>mindist</th>\n",
       "    </tr>\n",
       "  </thead>\n",
       "  <tbody>\n",
       "    <tr>\n",
       "      <th>0</th>\n",
       "      <td>JCVI_READ_1091145030183</td>\n",
       "      <td>0.03</td>\n",
       "    </tr>\n",
       "    <tr>\n",
       "      <th>1</th>\n",
       "      <td>JCVI_READ_1091150264015</td>\n",
       "      <td>0.04</td>\n",
       "    </tr>\n",
       "    <tr>\n",
       "      <th>2</th>\n",
       "      <td>JCVI_READ_1091150264020</td>\n",
       "      <td>0.03</td>\n",
       "    </tr>\n",
       "    <tr>\n",
       "      <th>3</th>\n",
       "      <td>JCVI_READ_1091150264027</td>\n",
       "      <td>0.03</td>\n",
       "    </tr>\n",
       "    <tr>\n",
       "      <th>4</th>\n",
       "      <td>JCVI_READ_1091150264052</td>\n",
       "      <td>0.03</td>\n",
       "    </tr>\n",
       "    <tr>\n",
       "      <th>...</th>\n",
       "      <td>...</td>\n",
       "      <td>...</td>\n",
       "    </tr>\n",
       "    <tr>\n",
       "      <th>19995</th>\n",
       "      <td>JCVI_READ_1091145245693</td>\n",
       "      <td>0.03</td>\n",
       "    </tr>\n",
       "    <tr>\n",
       "      <th>19996</th>\n",
       "      <td>JCVI_READ_1091145137484</td>\n",
       "      <td>0.03</td>\n",
       "    </tr>\n",
       "    <tr>\n",
       "      <th>19997</th>\n",
       "      <td>JCVI_READ_1091145209400</td>\n",
       "      <td>0.04</td>\n",
       "    </tr>\n",
       "    <tr>\n",
       "      <th>19998</th>\n",
       "      <td>JCVI_READ_1091145110797</td>\n",
       "      <td>0.03</td>\n",
       "    </tr>\n",
       "    <tr>\n",
       "      <th>19999</th>\n",
       "      <td>JCVI_READ_1091145137487</td>\n",
       "      <td>0.03</td>\n",
       "    </tr>\n",
       "  </tbody>\n",
       "</table>\n",
       "<p>20000 rows × 2 columns</p>\n",
       "</div>"
      ],
      "text/plain": [
       "                       read_id  mindist\n",
       "0      JCVI_READ_1091145030183     0.03\n",
       "1      JCVI_READ_1091150264015     0.04\n",
       "2      JCVI_READ_1091150264020     0.03\n",
       "3      JCVI_READ_1091150264027     0.03\n",
       "4      JCVI_READ_1091150264052     0.03\n",
       "...                        ...      ...\n",
       "19995  JCVI_READ_1091145245693     0.03\n",
       "19996  JCVI_READ_1091145137484     0.03\n",
       "19997  JCVI_READ_1091145209400     0.04\n",
       "19998  JCVI_READ_1091145110797     0.03\n",
       "19999  JCVI_READ_1091145137487     0.03\n",
       "\n",
       "[20000 rows x 2 columns]"
      ]
     },
     "execution_count": 17,
     "metadata": {},
     "output_type": "execute_result"
    }
   ],
   "source": [
    "aux_mindist_path = \"../distances/omh-k10-l1-m100/GS003_GS005.mindist\"\n",
    "if os.path.exists(aux_mindist_path):\n",
    "    omh_min_GS003_GS005_df = pd.read_csv(aux_mindist_path)\n",
    "else:\n",
    "    omh_min_GS003_GS005_df = calculate_omh_mindist(\"../distances/omh-k10-l1-m100/GS003_GS005.dist\")\n",
    "    omh_min_GS003_GS005_df.to_csv(aux_mindist_path, index=False)\n",
    "    \n",
    "omh_min_GS003_GS005_df"
   ]
  },
  {
   "cell_type": "code",
   "execution_count": 18,
   "id": "54cf1a67",
   "metadata": {},
   "outputs": [
    {
     "name": "stdout",
     "output_type": "stream",
     "text": [
      "0.042891000000000006\n"
     ]
    },
    {
     "data": {
      "image/png": "[encoded data removed]",
      "text/plain": [
       "<Figure size 864x576 with 1 Axes>"
      ]
     },
     "metadata": {
      "needs_background": "light"
     },
     "output_type": "display_data"
    }
   ],
   "source": [
    "aux_df = omh_min_GS003_GS005_df.merge(read_ids_df, how='left', on=\"read_id\")\n",
    "print(aux_df[aux_df[\"sample_id\"] == \"GS003\"][\"mindist\"].values.mean())\n",
    "plt.figure(figsize=(12,8))\n",
    "sns.histplot(aux_df[aux_df[\"sample_id\"] == \"GS003\"][\"mindist\"].values, kde=True, bins=30)\n",
    "plt.xlabel(\"OMH similarity\", fontsize=12)\n",
    "plt.ylabel(\"Count\", fontsize=12)\n",
    "plt.show()"
   ]
  },
  {
   "cell_type": "markdown",
   "id": "06183c38",
   "metadata": {},
   "source": [
    "### GS003_GS037"
   ]
  },
  {
   "cell_type": "code",
   "execution_count": 19,
   "id": "42762e85",
   "metadata": {
    "scrolled": true
   },
   "outputs": [
    {
     "data": {
      "text/html": [
       "<div>\n",
       "<style scoped>\n",
       "    .dataframe tbody tr th:only-of-type {\n",
       "        vertical-align: middle;\n",
       "    }\n",
       "\n",
       "    .dataframe tbody tr th {\n",
       "        vertical-align: top;\n",
       "    }\n",
       "\n",
       "    .dataframe thead th {\n",
       "        text-align: right;\n",
       "    }\n",
       "</style>\n",
       "<table border=\"1\" class=\"dataframe\">\n",
       "  <thead>\n",
       "    <tr style=\"text-align: right;\">\n",
       "      <th></th>\n",
       "      <th>read_id</th>\n",
       "      <th>mindist</th>\n",
       "    </tr>\n",
       "  </thead>\n",
       "  <tbody>\n",
       "    <tr>\n",
       "      <th>0</th>\n",
       "      <td>JCVI_READ_1091145030183</td>\n",
       "      <td>0.06</td>\n",
       "    </tr>\n",
       "    <tr>\n",
       "      <th>1</th>\n",
       "      <td>JCVI_READ_1096013066145</td>\n",
       "      <td>0.04</td>\n",
       "    </tr>\n",
       "    <tr>\n",
       "      <th>2</th>\n",
       "      <td>JCVI_READ_1095994149980</td>\n",
       "      <td>0.04</td>\n",
       "    </tr>\n",
       "    <tr>\n",
       "      <th>3</th>\n",
       "      <td>JCVI_READ_1096013056107</td>\n",
       "      <td>0.02</td>\n",
       "    </tr>\n",
       "    <tr>\n",
       "      <th>4</th>\n",
       "      <td>JCVI_READ_1095994149981</td>\n",
       "      <td>0.03</td>\n",
       "    </tr>\n",
       "    <tr>\n",
       "      <th>...</th>\n",
       "      <td>...</td>\n",
       "      <td>...</td>\n",
       "    </tr>\n",
       "    <tr>\n",
       "      <th>19995</th>\n",
       "      <td>JCVI_READ_1091145245693</td>\n",
       "      <td>0.04</td>\n",
       "    </tr>\n",
       "    <tr>\n",
       "      <th>19996</th>\n",
       "      <td>JCVI_READ_1091145137484</td>\n",
       "      <td>0.05</td>\n",
       "    </tr>\n",
       "    <tr>\n",
       "      <th>19997</th>\n",
       "      <td>JCVI_READ_1091145209400</td>\n",
       "      <td>0.04</td>\n",
       "    </tr>\n",
       "    <tr>\n",
       "      <th>19998</th>\n",
       "      <td>JCVI_READ_1091145110797</td>\n",
       "      <td>0.07</td>\n",
       "    </tr>\n",
       "    <tr>\n",
       "      <th>19999</th>\n",
       "      <td>JCVI_READ_1091145137487</td>\n",
       "      <td>0.04</td>\n",
       "    </tr>\n",
       "  </tbody>\n",
       "</table>\n",
       "<p>20000 rows × 2 columns</p>\n",
       "</div>"
      ],
      "text/plain": [
       "                       read_id  mindist\n",
       "0      JCVI_READ_1091145030183     0.06\n",
       "1      JCVI_READ_1096013066145     0.04\n",
       "2      JCVI_READ_1095994149980     0.04\n",
       "3      JCVI_READ_1096013056107     0.02\n",
       "4      JCVI_READ_1095994149981     0.03\n",
       "...                        ...      ...\n",
       "19995  JCVI_READ_1091145245693     0.04\n",
       "19996  JCVI_READ_1091145137484     0.05\n",
       "19997  JCVI_READ_1091145209400     0.04\n",
       "19998  JCVI_READ_1091145110797     0.07\n",
       "19999  JCVI_READ_1091145137487     0.04\n",
       "\n",
       "[20000 rows x 2 columns]"
      ]
     },
     "execution_count": 19,
     "metadata": {},
     "output_type": "execute_result"
    }
   ],
   "source": [
    "aux_mindist_path = \"../distances/omh-k10-l1-m100/GS003_GS037.mindist\"\n",
    "if os.path.exists(aux_mindist_path):\n",
    "    omh_min_GS003_GS037_df = pd.read_csv(aux_mindist_path)\n",
    "else:\n",
    "    omh_min_GS003_GS037_df = calculate_omh_mindist(\"../distances/omh-k10-l1-m100/GS003_GS037.dist\")\n",
    "    omh_min_GS003_GS037_df.to_csv(aux_mindist_path, index=False)\n",
    "    \n",
    "omh_min_GS003_GS037_df"
   ]
  },
  {
   "cell_type": "code",
   "execution_count": 20,
   "id": "1a07141c",
   "metadata": {},
   "outputs": [
    {
     "name": "stdout",
     "output_type": "stream",
     "text": [
      "0.0396\n"
     ]
    },
    {
     "data": {
      "image/png": "[encoded data removed]",
      "text/plain": [
       "<Figure size 864x576 with 1 Axes>"
      ]
     },
     "metadata": {
      "needs_background": "light"
     },
     "output_type": "display_data"
    }
   ],
   "source": [
    "aux_df = omh_min_GS003_GS037_df.merge(read_ids_df, how='left', on=\"read_id\")\n",
    "print(aux_df[aux_df[\"sample_id\"] == \"GS003\"][\"mindist\"].values.mean())\n",
    "plt.figure(figsize=(12,8))\n",
    "sns.histplot(aux_df[aux_df[\"sample_id\"] == \"GS003\"][\"mindist\"].values, kde=True, bins=30)\n",
    "plt.xlabel(\"OMH similarity\", fontsize=12)\n",
    "plt.ylabel(\"Count\", fontsize=12)\n",
    "plt.show()"
   ]
  },
  {
   "cell_type": "code",
   "execution_count": 21,
   "id": "caeb56f5",
   "metadata": {},
   "outputs": [
    {
     "name": "stdout",
     "output_type": "stream",
     "text": [
      "KstestResult(statistic=0.5079783137169019, pvalue=0.0)\n",
      "KstestResult(statistic=0.5079783137169019, pvalue=0.0)\n"
     ]
    },
    {
     "data": {
      "text/plain": [
       "Ttest_indResult(statistic=7.907938854638636, pvalue=1.4106180134207295e-15)"
      ]
     },
     "execution_count": 21,
     "metadata": {},
     "output_type": "execute_result"
    }
   ],
   "source": [
    "sv1 = omh_min_GS003_GS005_df.merge(read_ids_df, how='left', on=\"read_id\")\n",
    "sv1 = sv1[sv1[\"sample_id\"] == \"GS003\"][\"mindist\"].values\n",
    "sv2 = omh_min_GS003_GS037_df.merge(read_ids_df, how='left', on=\"read_id\")\n",
    "sv2 = sv2[sv2[\"sample_id\"] == \"GS003\"][\"mindist\"].values\n",
    "\n",
    "print(stats.kstest(sv1, 'norm'))\n",
    "print(stats.kstest(sv2, 'norm'))\n",
    "\n",
    "stats.ttest_ind(sv1,sv2, equal_var=False, alternative='greater')"
   ]
  },
  {
   "cell_type": "code",
   "execution_count": 22,
   "id": "4d2cfb1d",
   "metadata": {},
   "outputs": [
    {
     "data": {
      "image/png": "[encoded data removed]",
      "text/plain": [
       "<Figure size 864x576 with 1 Axes>"
      ]
     },
     "metadata": {
      "needs_background": "light"
     },
     "output_type": "display_data"
    }
   ],
   "source": [
    "plt.figure(figsize=(12,8))\n",
    "sns.boxplot(data=pd.DataFrame(np.array([sv1,sv2]).T, columns=[\"GS003_GS005\",\"GS003_GS037\"]), \n",
    "            orient='h', fliersize=1, whis=2).set(xlabel=\"OMH similarity\")\n",
    "plt.xlabel(\"OMH similarity\", fontsize=12)\n",
    "plt.show()"
   ]
  },
  {
   "cell_type": "code",
   "execution_count": 47,
   "id": "a2aa079b",
   "metadata": {},
   "outputs": [
    {
     "data": {
      "image/png": "[encoded data removed]",
      "text/plain": [
       "<Figure size 864x576 with 1 Axes>"
      ]
     },
     "metadata": {
      "needs_background": "light"
     },
     "output_type": "display_data"
    }
   ],
   "source": [
    "plt.figure(figsize=(12,8))\n",
    "ecdf1 = ECDF(sv1)\n",
    "ecdf2 = ECDF(sv2)\n",
    "plt.plot(ecdf1.x, ecdf1.y)\n",
    "plt.plot(ecdf2.x, ecdf2.y)\n",
    "plt.show()"
   ]
  },
  {
   "cell_type": "code",
   "execution_count": 5,
   "id": "94694479",
   "metadata": {},
   "outputs": [],
   "source": [
    "import re"
   ]
  },
  {
   "cell_type": "code",
   "execution_count": 21,
   "id": "c45b44db",
   "metadata": {},
   "outputs": [
    {
     "ename": "AttributeError",
     "evalue": "'NoneType' object has no attribute 'start'",
     "output_type": "error",
     "traceback": [
      "\u001b[0;31m---------------------------------------------------------------------------\u001b[0m",
      "\u001b[0;31mAttributeError\u001b[0m                            Traceback (most recent call last)",
      "Input \u001b[0;32mIn [21]\u001b[0m, in \u001b[0;36m<cell line: 8>\u001b[0;34m()\u001b[0m\n\u001b[1;32m     14\u001b[0m \u001b[38;5;28;01mif\u001b[39;00m count\u001b[38;5;241m%\u001b[39m\u001b[38;5;241m2\u001b[39m \u001b[38;5;241m==\u001b[39m \u001b[38;5;241m0\u001b[39m:\n\u001b[1;32m     15\u001b[0m     match \u001b[38;5;241m=\u001b[39m re\u001b[38;5;241m.\u001b[39msearch(\u001b[38;5;124m\"\u001b[39m\u001b[38;5;124m\\\u001b[39m\u001b[38;5;124m/sample_name=\u001b[39m\u001b[38;5;124m\\\u001b[39m\u001b[38;5;124mw+\u001b[39m\u001b[38;5;124m\"\u001b[39m,line)\n\u001b[0;32m---> 16\u001b[0m     sample_name_sub \u001b[38;5;241m=\u001b[39m line[\u001b[43mmatch\u001b[49m\u001b[38;5;241;43m.\u001b[39;49m\u001b[43mstart\u001b[49m():match\u001b[38;5;241m.\u001b[39mend()]\n\u001b[1;32m     17\u001b[0m     \u001b[38;5;28;01mif\u001b[39;00m \u001b[38;5;124m\"\u001b[39m\u001b[38;5;124mGS001a\u001b[39m\u001b[38;5;124m\"\u001b[39m \u001b[38;5;129;01min\u001b[39;00m sample_name_sub:\n\u001b[1;32m     18\u001b[0m         f003\u001b[38;5;241m.\u001b[39mwrite(line)\n",
      "\u001b[0;31mAttributeError\u001b[0m: 'NoneType' object has no attribute 'start'"
     ]
    }
   ],
   "source": [
    "f003 = open(\"../data/asm_samples/GS003.asm.fa\", \"a\")\n",
    "f005 = open(\"../data/asm_samples/GS005.asm.fa\", \"a\")\n",
    "f037 = open(\"../data/asm_samples/GS037.asm.fa\", \"a\")\n",
    "\n",
    "\n",
    "path = \"../data/CAM_PROJ_GOS.asm.fa\"\n",
    "\n",
    "with open(path, \"r\") as f:\n",
    "\n",
    "    count = 0\n",
    "    keep_seq = None\n",
    "    \n",
    "    for line in f:\n",
    "        if count%2 == 0:\n",
    "            match = re.search(\"\\/sample_name=\\w+\",line)\n",
    "            sample_name_sub = line[match.start():match.end()]\n",
    "            if \"GS001a\" in sample_name_sub:\n",
    "                f003.write(line)\n",
    "                keep_seq = \"GS003\"\n",
    "            elif \"GS005\" in sample_name_sub:\n",
    "                f005.write(line)\n",
    "                keep_seq = \"GS005\"\n",
    "            elif \"GS037\" in sample_name_sub:\n",
    "                f037.write(line)\n",
    "                keep_seq = \"GS037\"\n",
    "                \n",
    "        else:\n",
    "            if \"GS003\" == keep_seq:\n",
    "                f003.write(line)               \n",
    "            elif \"GS005\" == keep_seq:\n",
    "                f005.write(line)\n",
    "            elif \"GS037\" == keep_seq:\n",
    "                f037.write(line)\n",
    "        \n",
    "            keep_seq = None\n",
    "        \n",
    "        \n",
    "        count += 1\n",
    "        if count % int(10e6) == 0:\n",
    "            print(count)\n",
    "            \n",
    "f003.close()  \n",
    "f005.close()  \n",
    "f037.close()  "
   ]
  },
  {
   "cell_type": "code",
   "execution_count": null,
   "id": "2af9cb91",
   "metadata": {},
   "outputs": [],
   "source": []
  }
 ],
 "metadata": {
  "kernelspec": {
   "display_name": "Python 3 (ipykernel)",
   "language": "python",
   "name": "python3"
  },
  "language_info": {
   "codemirror_mode": {
    "name": "ipython",
    "version": 3
   },
   "file_extension": ".py",
   "mimetype": "text/x-python",
   "name": "python",
   "nbconvert_exporter": "python",
   "pygments_lexer": "ipython3",
   "version": "3.8.12"
  }
 },
 "nbformat": 4,
 "nbformat_minor": 5
}
