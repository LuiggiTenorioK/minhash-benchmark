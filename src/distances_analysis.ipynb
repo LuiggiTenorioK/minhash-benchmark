{
 "cells": [
  {
   "cell_type": "code",
   "execution_count": 60,
   "id": "f616d80c",
   "metadata": {},
   "outputs": [],
   "source": [
    "import pandas as pd\n",
    "import numpy as np\n",
    "import seaborn as sns\n",
    "from scipy import stats\n",
    "import json\n",
    "import gc\n",
    "import os"
   ]
  },
  {
   "cell_type": "code",
   "execution_count": 47,
   "id": "af3947fe",
   "metadata": {},
   "outputs": [
    {
     "data": {
      "text/plain": [
       "835"
      ]
     },
     "execution_count": 47,
     "metadata": {},
     "output_type": "execute_result"
    }
   ],
   "source": [
    "gc.collect()"
   ]
  },
  {
   "cell_type": "code",
   "execution_count": 26,
   "id": "5eb21394",
   "metadata": {},
   "outputs": [
    {
     "data": {
      "text/html": [
       "<div>\n",
       "<style scoped>\n",
       "    .dataframe tbody tr th:only-of-type {\n",
       "        vertical-align: middle;\n",
       "    }\n",
       "\n",
       "    .dataframe tbody tr th {\n",
       "        vertical-align: top;\n",
       "    }\n",
       "\n",
       "    .dataframe thead th {\n",
       "        text-align: right;\n",
       "    }\n",
       "</style>\n",
       "<table border=\"1\" class=\"dataframe\">\n",
       "  <thead>\n",
       "    <tr style=\"text-align: right;\">\n",
       "      <th></th>\n",
       "      <th>sample_id</th>\n",
       "      <th>read_id</th>\n",
       "    </tr>\n",
       "  </thead>\n",
       "  <tbody>\n",
       "    <tr>\n",
       "      <th>0</th>\n",
       "      <td>GS003</td>\n",
       "      <td>JCVI_READ_1091145030183</td>\n",
       "    </tr>\n",
       "    <tr>\n",
       "      <th>1</th>\n",
       "      <td>GS003</td>\n",
       "      <td>JCVI_READ_1095403403926</td>\n",
       "    </tr>\n",
       "    <tr>\n",
       "      <th>2</th>\n",
       "      <td>GS003</td>\n",
       "      <td>JCVI_READ_1095403478765</td>\n",
       "    </tr>\n",
       "    <tr>\n",
       "      <th>3</th>\n",
       "      <td>GS003</td>\n",
       "      <td>JCVI_READ_1095403421433</td>\n",
       "    </tr>\n",
       "    <tr>\n",
       "      <th>4</th>\n",
       "      <td>GS003</td>\n",
       "      <td>JCVI_READ_1095403403927</td>\n",
       "    </tr>\n",
       "    <tr>\n",
       "      <th>...</th>\n",
       "      <td>...</td>\n",
       "      <td>...</td>\n",
       "    </tr>\n",
       "    <tr>\n",
       "      <th>29995</th>\n",
       "      <td>GS037</td>\n",
       "      <td>JCVI_READ_1095964463383</td>\n",
       "    </tr>\n",
       "    <tr>\n",
       "      <th>29996</th>\n",
       "      <td>GS037</td>\n",
       "      <td>JCVI_READ_1095964465303</td>\n",
       "    </tr>\n",
       "    <tr>\n",
       "      <th>29997</th>\n",
       "      <td>GS037</td>\n",
       "      <td>JCVI_READ_1095964452922</td>\n",
       "    </tr>\n",
       "    <tr>\n",
       "      <th>29998</th>\n",
       "      <td>GS037</td>\n",
       "      <td>JCVI_READ_1095964451194</td>\n",
       "    </tr>\n",
       "    <tr>\n",
       "      <th>29999</th>\n",
       "      <td>GS037</td>\n",
       "      <td>JCVI_READ_1095964463384</td>\n",
       "    </tr>\n",
       "  </tbody>\n",
       "</table>\n",
       "<p>30000 rows × 2 columns</p>\n",
       "</div>"
      ],
      "text/plain": [
       "      sample_id                  read_id\n",
       "0         GS003  JCVI_READ_1091145030183\n",
       "1         GS003  JCVI_READ_1095403403926\n",
       "2         GS003  JCVI_READ_1095403478765\n",
       "3         GS003  JCVI_READ_1095403421433\n",
       "4         GS003  JCVI_READ_1095403403927\n",
       "...         ...                      ...\n",
       "29995     GS037  JCVI_READ_1095964463383\n",
       "29996     GS037  JCVI_READ_1095964465303\n",
       "29997     GS037  JCVI_READ_1095964452922\n",
       "29998     GS037  JCVI_READ_1095964451194\n",
       "29999     GS037  JCVI_READ_1095964463384\n",
       "\n",
       "[30000 rows x 2 columns]"
      ]
     },
     "execution_count": 26,
     "metadata": {},
     "output_type": "execute_result"
    }
   ],
   "source": [
    "with open(\"../data/samples/read_ids.json\", \"r\") as f:\n",
    "    read_ids = json.load(f)\n",
    "    \n",
    "read_ids = [[{\"sample_id\": sample_id, \"read_id\": read_id} for read_id in read_ids[sample_id]] for sample_id in read_ids]\n",
    "\n",
    "read_ids_df = pd.DataFrame(read_ids[0] + read_ids[1] + read_ids[2])\n",
    "read_ids_df"
   ]
  },
  {
   "cell_type": "markdown",
   "id": "393d039f",
   "metadata": {},
   "source": [
    "# MASH"
   ]
  },
  {
   "cell_type": "code",
   "execution_count": 39,
   "id": "7164a31e",
   "metadata": {},
   "outputs": [],
   "source": [
    "def calculate_mash_mindist(path):\n",
    "    reg = {}\n",
    "\n",
    "    with open(path, \"r\") as f:\n",
    "\n",
    "        count = 0\n",
    "        for line in f:\n",
    "            rec = line.split(\"\\t\")\n",
    "            distance = float(rec[2])\n",
    "\n",
    "            if reg.get(rec[0]) == None:\n",
    "                reg[rec[0]] = 1\n",
    "            elif reg.get(rec[0]) > distance:\n",
    "                reg[rec[0]] = distance\n",
    "\n",
    "            if reg.get(rec[1]) == None:\n",
    "                reg[rec[1]] = 1\n",
    "            elif reg.get(rec[1]) > distance:\n",
    "                reg[rec[1]] = distance\n",
    "\n",
    "\n",
    "            count += 1\n",
    "            if count % int(10e6) == 0:\n",
    "                print(count)\n",
    "                \n",
    "    return pd.DataFrame([{\n",
    "        'read_id': x,\n",
    "        'mindist': reg[x]\n",
    "    } for x in reg])"
   ]
  },
  {
   "cell_type": "markdown",
   "id": "59dcf520",
   "metadata": {},
   "source": [
    "### GS003_GS005"
   ]
  },
  {
   "cell_type": "code",
   "execution_count": 53,
   "id": "a7350867",
   "metadata": {},
   "outputs": [
    {
     "data": {
      "text/html": [
       "<div>\n",
       "<style scoped>\n",
       "    .dataframe tbody tr th:only-of-type {\n",
       "        vertical-align: middle;\n",
       "    }\n",
       "\n",
       "    .dataframe tbody tr th {\n",
       "        vertical-align: top;\n",
       "    }\n",
       "\n",
       "    .dataframe thead th {\n",
       "        text-align: right;\n",
       "    }\n",
       "</style>\n",
       "<table border=\"1\" class=\"dataframe\">\n",
       "  <thead>\n",
       "    <tr style=\"text-align: right;\">\n",
       "      <th></th>\n",
       "      <th>read_id</th>\n",
       "      <th>mindist</th>\n",
       "    </tr>\n",
       "  </thead>\n",
       "  <tbody>\n",
       "    <tr>\n",
       "      <th>0</th>\n",
       "      <td>JCVI_READ_1091145030183</td>\n",
       "      <td>0.235138</td>\n",
       "    </tr>\n",
       "    <tr>\n",
       "      <th>1</th>\n",
       "      <td>JCVI_READ_1091150264015</td>\n",
       "      <td>0.235138</td>\n",
       "    </tr>\n",
       "    <tr>\n",
       "      <th>2</th>\n",
       "      <td>JCVI_READ_1095403403926</td>\n",
       "      <td>0.284297</td>\n",
       "    </tr>\n",
       "    <tr>\n",
       "      <th>3</th>\n",
       "      <td>JCVI_READ_1095403478765</td>\n",
       "      <td>0.256495</td>\n",
       "    </tr>\n",
       "    <tr>\n",
       "      <th>4</th>\n",
       "      <td>JCVI_READ_1095403421433</td>\n",
       "      <td>0.256495</td>\n",
       "    </tr>\n",
       "    <tr>\n",
       "      <th>...</th>\n",
       "      <td>...</td>\n",
       "      <td>...</td>\n",
       "    </tr>\n",
       "    <tr>\n",
       "      <th>19995</th>\n",
       "      <td>JCVI_READ_1091143643227</td>\n",
       "      <td>0.284297</td>\n",
       "    </tr>\n",
       "    <tr>\n",
       "      <th>19996</th>\n",
       "      <td>JCVI_READ_1091143669563</td>\n",
       "      <td>0.256495</td>\n",
       "    </tr>\n",
       "    <tr>\n",
       "      <th>19997</th>\n",
       "      <td>JCVI_READ_1091143669564</td>\n",
       "      <td>0.284297</td>\n",
       "    </tr>\n",
       "    <tr>\n",
       "      <th>19998</th>\n",
       "      <td>JCVI_READ_1091143643228</td>\n",
       "      <td>0.256495</td>\n",
       "    </tr>\n",
       "    <tr>\n",
       "      <th>19999</th>\n",
       "      <td>JCVI_READ_1091143676477</td>\n",
       "      <td>0.235138</td>\n",
       "    </tr>\n",
       "  </tbody>\n",
       "</table>\n",
       "<p>20000 rows × 2 columns</p>\n",
       "</div>"
      ],
      "text/plain": [
       "                       read_id   mindist\n",
       "0      JCVI_READ_1091145030183  0.235138\n",
       "1      JCVI_READ_1091150264015  0.235138\n",
       "2      JCVI_READ_1095403403926  0.284297\n",
       "3      JCVI_READ_1095403478765  0.256495\n",
       "4      JCVI_READ_1095403421433  0.256495\n",
       "...                        ...       ...\n",
       "19995  JCVI_READ_1091143643227  0.284297\n",
       "19996  JCVI_READ_1091143669563  0.256495\n",
       "19997  JCVI_READ_1091143669564  0.284297\n",
       "19998  JCVI_READ_1091143643228  0.256495\n",
       "19999  JCVI_READ_1091143676477  0.235138\n",
       "\n",
       "[20000 rows x 2 columns]"
      ]
     },
     "execution_count": 53,
     "metadata": {},
     "output_type": "execute_result"
    }
   ],
   "source": [
    "aux_mindist_path = \"../distances/mash-k10-s100/GS003_GS005.mindist\"\n",
    "if os.path.exists(aux_mindist_path):\n",
    "    mash_min_GS003_GS005_df = pd.read_csv(aux_mindist_path)\n",
    "else:\n",
    "    mash_min_GS003_GS005_df = calculate_mash_mindist(\"../distances/mash-k10-s100/GS003_GS005.dist\")\n",
    "    mash_min_GS003_GS005_df.to_csv(aux_mindist_path, index=False)\n",
    "    \n",
    "mash_min_GS003_GS005_df"
   ]
  },
  {
   "cell_type": "code",
   "execution_count": 117,
   "id": "7b7616c9",
   "metadata": {},
   "outputs": [
    {
     "name": "stdout",
     "output_type": "stream",
     "text": [
      "0.24512576852\n"
     ]
    },
    {
     "data": {
      "text/plain": [
       "<AxesSubplot:ylabel='Count'>"
      ]
     },
     "execution_count": 117,
     "metadata": {},
     "output_type": "execute_result"
    },
    {
     "data": {
      "image/png": "[encoded data removed]",
      "text/plain": [
       "<Figure size 432x288 with 1 Axes>"
      ]
     },
     "metadata": {
      "needs_background": "light"
     },
     "output_type": "display_data"
    }
   ],
   "source": [
    "aux_df = mash_min_GS003_GS005_df.merge(read_ids_df, how='left', on=\"read_id\")\n",
    "print(aux_df[aux_df[\"sample_id\"] == \"GS003\"][\"mindist\"].values.mean())\n",
    "sns.histplot(aux_df[aux_df[\"sample_id\"] == \"GS003\"][\"mindist\"].values, kde=True, bins=30)"
   ]
  },
  {
   "cell_type": "markdown",
   "id": "4e8a4258",
   "metadata": {},
   "source": [
    "### GS003_GS037"
   ]
  },
  {
   "cell_type": "code",
   "execution_count": 56,
   "id": "6f26ce1f",
   "metadata": {
    "scrolled": true
   },
   "outputs": [
    {
     "data": {
      "text/html": [
       "<div>\n",
       "<style scoped>\n",
       "    .dataframe tbody tr th:only-of-type {\n",
       "        vertical-align: middle;\n",
       "    }\n",
       "\n",
       "    .dataframe tbody tr th {\n",
       "        vertical-align: top;\n",
       "    }\n",
       "\n",
       "    .dataframe thead th {\n",
       "        text-align: right;\n",
       "    }\n",
       "</style>\n",
       "<table border=\"1\" class=\"dataframe\">\n",
       "  <thead>\n",
       "    <tr style=\"text-align: right;\">\n",
       "      <th></th>\n",
       "      <th>read_id</th>\n",
       "      <th>mindist</th>\n",
       "    </tr>\n",
       "  </thead>\n",
       "  <tbody>\n",
       "    <tr>\n",
       "      <th>0</th>\n",
       "      <td>JCVI_READ_1091145030183</td>\n",
       "      <td>0.256495</td>\n",
       "    </tr>\n",
       "    <tr>\n",
       "      <th>1</th>\n",
       "      <td>JCVI_READ_1096013066145</td>\n",
       "      <td>0.235138</td>\n",
       "    </tr>\n",
       "    <tr>\n",
       "      <th>2</th>\n",
       "      <td>JCVI_READ_1095403403926</td>\n",
       "      <td>0.284297</td>\n",
       "    </tr>\n",
       "    <tr>\n",
       "      <th>3</th>\n",
       "      <td>JCVI_READ_1095403478765</td>\n",
       "      <td>0.256495</td>\n",
       "    </tr>\n",
       "    <tr>\n",
       "      <th>4</th>\n",
       "      <td>JCVI_READ_1095403421433</td>\n",
       "      <td>0.256495</td>\n",
       "    </tr>\n",
       "    <tr>\n",
       "      <th>...</th>\n",
       "      <td>...</td>\n",
       "      <td>...</td>\n",
       "    </tr>\n",
       "    <tr>\n",
       "      <th>19995</th>\n",
       "      <td>JCVI_READ_1095964463383</td>\n",
       "      <td>0.235138</td>\n",
       "    </tr>\n",
       "    <tr>\n",
       "      <th>19996</th>\n",
       "      <td>JCVI_READ_1095964465303</td>\n",
       "      <td>0.203377</td>\n",
       "    </tr>\n",
       "    <tr>\n",
       "      <th>19997</th>\n",
       "      <td>JCVI_READ_1095964452922</td>\n",
       "      <td>0.217853</td>\n",
       "    </tr>\n",
       "    <tr>\n",
       "      <th>19998</th>\n",
       "      <td>JCVI_READ_1095964451194</td>\n",
       "      <td>0.217853</td>\n",
       "    </tr>\n",
       "    <tr>\n",
       "      <th>19999</th>\n",
       "      <td>JCVI_READ_1095964463384</td>\n",
       "      <td>0.256495</td>\n",
       "    </tr>\n",
       "  </tbody>\n",
       "</table>\n",
       "<p>20000 rows × 2 columns</p>\n",
       "</div>"
      ],
      "text/plain": [
       "                       read_id   mindist\n",
       "0      JCVI_READ_1091145030183  0.256495\n",
       "1      JCVI_READ_1096013066145  0.235138\n",
       "2      JCVI_READ_1095403403926  0.284297\n",
       "3      JCVI_READ_1095403478765  0.256495\n",
       "4      JCVI_READ_1095403421433  0.256495\n",
       "...                        ...       ...\n",
       "19995  JCVI_READ_1095964463383  0.235138\n",
       "19996  JCVI_READ_1095964465303  0.203377\n",
       "19997  JCVI_READ_1095964452922  0.217853\n",
       "19998  JCVI_READ_1095964451194  0.217853\n",
       "19999  JCVI_READ_1095964463384  0.256495\n",
       "\n",
       "[20000 rows x 2 columns]"
      ]
     },
     "execution_count": 56,
     "metadata": {},
     "output_type": "execute_result"
    }
   ],
   "source": [
    "aux_mindist_path = \"../distances/mash-k10-s100/GS003_GS037.mindist\"\n",
    "if os.path.exists(aux_mindist_path):\n",
    "    mash_min_GS003_GS037_df = pd.read_csv(aux_mindist_path)\n",
    "else:\n",
    "    mash_min_GS003_GS037_df = calculate_mash_mindist(\"../distances/mash-k10-s100/GS003_GS037.dist\")\n",
    "    mash_min_GS003_GS037_df.to_csv(aux_mindist_path, index=False)\n",
    "    \n",
    "mash_min_GS003_GS037_df"
   ]
  },
  {
   "cell_type": "code",
   "execution_count": 116,
   "id": "271ea0db",
   "metadata": {},
   "outputs": [
    {
     "name": "stdout",
     "output_type": "stream",
     "text": [
      "0.24992508219\n"
     ]
    },
    {
     "data": {
      "text/plain": [
       "<AxesSubplot:ylabel='Count'>"
      ]
     },
     "execution_count": 116,
     "metadata": {},
     "output_type": "execute_result"
    },
    {
     "data": {
      "image/png": "[encoded data removed]",
      "text/plain": [
       "<Figure size 432x288 with 1 Axes>"
      ]
     },
     "metadata": {
      "needs_background": "light"
     },
     "output_type": "display_data"
    }
   ],
   "source": [
    "aux_df = mash_min_GS003_GS037_df.merge(read_ids_df, how='left', on=\"read_id\")\n",
    "print(aux_df[aux_df[\"sample_id\"] == \"GS003\"][\"mindist\"].values.mean())\n",
    "sns.histplot(aux_df[aux_df[\"sample_id\"] == \"GS003\"][\"mindist\"].values, kde=True, bins=30)"
   ]
  },
  {
   "cell_type": "code",
   "execution_count": 105,
   "id": "75ce5780",
   "metadata": {},
   "outputs": [
    {
     "name": "stdout",
     "output_type": "stream",
     "text": [
      "KstestResult(statistic=0.521842141928761, pvalue=0.0)\n",
      "KstestResult(statistic=0.5596621836468985, pvalue=0.0)\n"
     ]
    },
    {
     "data": {
      "text/plain": [
       "Ttest_indResult(statistic=-9.457991135085733, pvalue=1.7555517349995687e-21)"
      ]
     },
     "execution_count": 105,
     "metadata": {},
     "output_type": "execute_result"
    }
   ],
   "source": [
    "sv1 = mash_min_GS003_GS005_df.merge(read_ids_df, how='left', on=\"read_id\")\n",
    "sv1 = sv1[sv1[\"sample_id\"] == \"GS003\"][\"mindist\"].values\n",
    "sv2 = mash_min_GS003_GS037_df.merge(read_ids_df, how='left', on=\"read_id\")\n",
    "sv2 = sv2[sv2[\"sample_id\"] == \"GS003\"][\"mindist\"].values\n",
    "\n",
    "print(stats.kstest(sv1, 'norm'))\n",
    "print(stats.kstest(sv2, 'norm'))\n",
    "\n",
    "stats.ttest_ind(sv1,sv2, equal_var=False, alternative='less')"
   ]
  },
  {
   "cell_type": "markdown",
   "id": "298211df",
   "metadata": {},
   "source": [
    "# OMH"
   ]
  },
  {
   "cell_type": "code",
   "execution_count": 101,
   "id": "66a27e8c",
   "metadata": {},
   "outputs": [],
   "source": [
    "def calculate_omh_mindist(path):\n",
    "    reg = {}\n",
    "\n",
    "    with open(path, \"r\") as f:\n",
    "\n",
    "        count = 0\n",
    "        for line in f:\n",
    "            rec = line.split(\" \")\n",
    "            distance = float(rec[2])\n",
    "\n",
    "            if reg.get(rec[0]) == None:\n",
    "                reg[rec[0]] = 0\n",
    "            elif reg.get(rec[0]) < distance:\n",
    "                reg[rec[0]] = distance\n",
    "\n",
    "            if reg.get(rec[1]) == None:\n",
    "                reg[rec[1]] = 0\n",
    "            elif reg.get(rec[1]) < distance:\n",
    "                reg[rec[1]] = distance\n",
    "\n",
    "\n",
    "            count += 1\n",
    "            if count % int(10e6) == 0:\n",
    "                print(count)\n",
    "                \n",
    "    return pd.DataFrame([{\n",
    "        'read_id': x,\n",
    "        'mindist': reg[x]\n",
    "    } for x in reg])"
   ]
  },
  {
   "cell_type": "markdown",
   "id": "292eb8af",
   "metadata": {},
   "source": [
    "### GS003_GS005"
   ]
  },
  {
   "cell_type": "code",
   "execution_count": 102,
   "id": "5610e810",
   "metadata": {
    "scrolled": true
   },
   "outputs": [
    {
     "name": "stdout",
     "output_type": "stream",
     "text": [
      "10000000\n",
      "20000000\n",
      "30000000\n",
      "40000000\n",
      "50000000\n",
      "60000000\n",
      "70000000\n",
      "80000000\n",
      "90000000\n",
      "100000000\n"
     ]
    },
    {
     "data": {
      "text/html": [
       "<div>\n",
       "<style scoped>\n",
       "    .dataframe tbody tr th:only-of-type {\n",
       "        vertical-align: middle;\n",
       "    }\n",
       "\n",
       "    .dataframe tbody tr th {\n",
       "        vertical-align: top;\n",
       "    }\n",
       "\n",
       "    .dataframe thead th {\n",
       "        text-align: right;\n",
       "    }\n",
       "</style>\n",
       "<table border=\"1\" class=\"dataframe\">\n",
       "  <thead>\n",
       "    <tr style=\"text-align: right;\">\n",
       "      <th></th>\n",
       "      <th>read_id</th>\n",
       "      <th>mindist</th>\n",
       "    </tr>\n",
       "  </thead>\n",
       "  <tbody>\n",
       "    <tr>\n",
       "      <th>0</th>\n",
       "      <td>JCVI_READ_1091145030183</td>\n",
       "      <td>0.03</td>\n",
       "    </tr>\n",
       "    <tr>\n",
       "      <th>1</th>\n",
       "      <td>JCVI_READ_1091150264015</td>\n",
       "      <td>0.04</td>\n",
       "    </tr>\n",
       "    <tr>\n",
       "      <th>2</th>\n",
       "      <td>JCVI_READ_1091150264020</td>\n",
       "      <td>0.03</td>\n",
       "    </tr>\n",
       "    <tr>\n",
       "      <th>3</th>\n",
       "      <td>JCVI_READ_1091150264027</td>\n",
       "      <td>0.03</td>\n",
       "    </tr>\n",
       "    <tr>\n",
       "      <th>4</th>\n",
       "      <td>JCVI_READ_1091150264052</td>\n",
       "      <td>0.03</td>\n",
       "    </tr>\n",
       "    <tr>\n",
       "      <th>...</th>\n",
       "      <td>...</td>\n",
       "      <td>...</td>\n",
       "    </tr>\n",
       "    <tr>\n",
       "      <th>19995</th>\n",
       "      <td>JCVI_READ_1091145245693</td>\n",
       "      <td>0.03</td>\n",
       "    </tr>\n",
       "    <tr>\n",
       "      <th>19996</th>\n",
       "      <td>JCVI_READ_1091145137484</td>\n",
       "      <td>0.03</td>\n",
       "    </tr>\n",
       "    <tr>\n",
       "      <th>19997</th>\n",
       "      <td>JCVI_READ_1091145209400</td>\n",
       "      <td>0.04</td>\n",
       "    </tr>\n",
       "    <tr>\n",
       "      <th>19998</th>\n",
       "      <td>JCVI_READ_1091145110797</td>\n",
       "      <td>0.03</td>\n",
       "    </tr>\n",
       "    <tr>\n",
       "      <th>19999</th>\n",
       "      <td>JCVI_READ_1091145137487</td>\n",
       "      <td>0.03</td>\n",
       "    </tr>\n",
       "  </tbody>\n",
       "</table>\n",
       "<p>20000 rows × 2 columns</p>\n",
       "</div>"
      ],
      "text/plain": [
       "                       read_id  mindist\n",
       "0      JCVI_READ_1091145030183     0.03\n",
       "1      JCVI_READ_1091150264015     0.04\n",
       "2      JCVI_READ_1091150264020     0.03\n",
       "3      JCVI_READ_1091150264027     0.03\n",
       "4      JCVI_READ_1091150264052     0.03\n",
       "...                        ...      ...\n",
       "19995  JCVI_READ_1091145245693     0.03\n",
       "19996  JCVI_READ_1091145137484     0.03\n",
       "19997  JCVI_READ_1091145209400     0.04\n",
       "19998  JCVI_READ_1091145110797     0.03\n",
       "19999  JCVI_READ_1091145137487     0.03\n",
       "\n",
       "[20000 rows x 2 columns]"
      ]
     },
     "execution_count": 102,
     "metadata": {},
     "output_type": "execute_result"
    }
   ],
   "source": [
    "aux_mindist_path = \"../distances/omh-k10-l1-m100/GS003_GS005.mindist\"\n",
    "if os.path.exists(aux_mindist_path):\n",
    "    omh_min_GS003_GS005_df = pd.read_csv(aux_mindist_path)\n",
    "else:\n",
    "    omh_min_GS003_GS005_df = calculate_omh_mindist(\"../distances/omh-k10-l1-m100/GS003_GS005.dist\")\n",
    "    omh_min_GS003_GS005_df.to_csv(aux_mindist_path, index=False)\n",
    "    \n",
    "omh_min_GS003_GS005_df"
   ]
  },
  {
   "cell_type": "code",
   "execution_count": 115,
   "id": "fbaadfcc",
   "metadata": {},
   "outputs": [
    {
     "name": "stdout",
     "output_type": "stream",
     "text": [
      "0.042891000000000006\n"
     ]
    },
    {
     "data": {
      "text/plain": [
       "<AxesSubplot:ylabel='Count'>"
      ]
     },
     "execution_count": 115,
     "metadata": {},
     "output_type": "execute_result"
    },
    {
     "data": {
      "image/png": "[encoded data removed]",
      "text/plain": [
       "<Figure size 432x288 with 1 Axes>"
      ]
     },
     "metadata": {
      "needs_background": "light"
     },
     "output_type": "display_data"
    }
   ],
   "source": [
    "aux_df = omh_min_GS003_GS005_df.merge(read_ids_df, how='left', on=\"read_id\")\n",
    "print(aux_df[aux_df[\"sample_id\"] == \"GS003\"][\"mindist\"].values.mean())\n",
    "sns.histplot(aux_df[aux_df[\"sample_id\"] == \"GS003\"][\"mindist\"].values, kde=True, bins=30)"
   ]
  },
  {
   "cell_type": "markdown",
   "id": "c34c86c6",
   "metadata": {},
   "source": [
    "### GS003_GS037"
   ]
  },
  {
   "cell_type": "code",
   "execution_count": 107,
   "id": "9f566919",
   "metadata": {
    "scrolled": true
   },
   "outputs": [
    {
     "name": "stdout",
     "output_type": "stream",
     "text": [
      "10000000\n",
      "20000000\n",
      "30000000\n",
      "40000000\n",
      "50000000\n",
      "60000000\n",
      "70000000\n",
      "80000000\n",
      "90000000\n",
      "100000000\n"
     ]
    },
    {
     "data": {
      "text/html": [
       "<div>\n",
       "<style scoped>\n",
       "    .dataframe tbody tr th:only-of-type {\n",
       "        vertical-align: middle;\n",
       "    }\n",
       "\n",
       "    .dataframe tbody tr th {\n",
       "        vertical-align: top;\n",
       "    }\n",
       "\n",
       "    .dataframe thead th {\n",
       "        text-align: right;\n",
       "    }\n",
       "</style>\n",
       "<table border=\"1\" class=\"dataframe\">\n",
       "  <thead>\n",
       "    <tr style=\"text-align: right;\">\n",
       "      <th></th>\n",
       "      <th>read_id</th>\n",
       "      <th>mindist</th>\n",
       "    </tr>\n",
       "  </thead>\n",
       "  <tbody>\n",
       "    <tr>\n",
       "      <th>0</th>\n",
       "      <td>JCVI_READ_1091145030183</td>\n",
       "      <td>0.06</td>\n",
       "    </tr>\n",
       "    <tr>\n",
       "      <th>1</th>\n",
       "      <td>JCVI_READ_1096013066145</td>\n",
       "      <td>0.04</td>\n",
       "    </tr>\n",
       "    <tr>\n",
       "      <th>2</th>\n",
       "      <td>JCVI_READ_1095994149980</td>\n",
       "      <td>0.04</td>\n",
       "    </tr>\n",
       "    <tr>\n",
       "      <th>3</th>\n",
       "      <td>JCVI_READ_1096013056107</td>\n",
       "      <td>0.02</td>\n",
       "    </tr>\n",
       "    <tr>\n",
       "      <th>4</th>\n",
       "      <td>JCVI_READ_1095994149981</td>\n",
       "      <td>0.03</td>\n",
       "    </tr>\n",
       "    <tr>\n",
       "      <th>...</th>\n",
       "      <td>...</td>\n",
       "      <td>...</td>\n",
       "    </tr>\n",
       "    <tr>\n",
       "      <th>19995</th>\n",
       "      <td>JCVI_READ_1091145245693</td>\n",
       "      <td>0.04</td>\n",
       "    </tr>\n",
       "    <tr>\n",
       "      <th>19996</th>\n",
       "      <td>JCVI_READ_1091145137484</td>\n",
       "      <td>0.05</td>\n",
       "    </tr>\n",
       "    <tr>\n",
       "      <th>19997</th>\n",
       "      <td>JCVI_READ_1091145209400</td>\n",
       "      <td>0.04</td>\n",
       "    </tr>\n",
       "    <tr>\n",
       "      <th>19998</th>\n",
       "      <td>JCVI_READ_1091145110797</td>\n",
       "      <td>0.07</td>\n",
       "    </tr>\n",
       "    <tr>\n",
       "      <th>19999</th>\n",
       "      <td>JCVI_READ_1091145137487</td>\n",
       "      <td>0.04</td>\n",
       "    </tr>\n",
       "  </tbody>\n",
       "</table>\n",
       "<p>20000 rows × 2 columns</p>\n",
       "</div>"
      ],
      "text/plain": [
       "                       read_id  mindist\n",
       "0      JCVI_READ_1091145030183     0.06\n",
       "1      JCVI_READ_1096013066145     0.04\n",
       "2      JCVI_READ_1095994149980     0.04\n",
       "3      JCVI_READ_1096013056107     0.02\n",
       "4      JCVI_READ_1095994149981     0.03\n",
       "...                        ...      ...\n",
       "19995  JCVI_READ_1091145245693     0.04\n",
       "19996  JCVI_READ_1091145137484     0.05\n",
       "19997  JCVI_READ_1091145209400     0.04\n",
       "19998  JCVI_READ_1091145110797     0.07\n",
       "19999  JCVI_READ_1091145137487     0.04\n",
       "\n",
       "[20000 rows x 2 columns]"
      ]
     },
     "execution_count": 107,
     "metadata": {},
     "output_type": "execute_result"
    }
   ],
   "source": [
    "aux_mindist_path = \"../distances/omh-k10-l1-m100/GS003_GS037.mindist\"\n",
    "if os.path.exists(aux_mindist_path):\n",
    "    omh_min_GS003_GS037_df = pd.read_csv(aux_mindist_path)\n",
    "else:\n",
    "    omh_min_GS003_GS037_df = calculate_omh_mindist(\"../distances/omh-k10-l1-m100/GS003_GS037.dist\")\n",
    "    omh_min_GS003_GS037_df.to_csv(aux_mindist_path, index=False)\n",
    "    \n",
    "omh_min_GS003_GS037_df"
   ]
  },
  {
   "cell_type": "code",
   "execution_count": 118,
   "id": "8fed6afa",
   "metadata": {},
   "outputs": [
    {
     "name": "stdout",
     "output_type": "stream",
     "text": [
      "0.0396\n"
     ]
    },
    {
     "data": {
      "text/plain": [
       "<AxesSubplot:ylabel='Count'>"
      ]
     },
     "execution_count": 118,
     "metadata": {},
     "output_type": "execute_result"
    },
    {
     "data": {
      "image/png": "[encoded data removed]",
      "text/plain": [
       "<Figure size 432x288 with 1 Axes>"
      ]
     },
     "metadata": {
      "needs_background": "light"
     },
     "output_type": "display_data"
    }
   ],
   "source": [
    "aux_df = omh_min_GS003_GS037_df.merge(read_ids_df, how='left', on=\"read_id\")\n",
    "print(aux_df[aux_df[\"sample_id\"] == \"GS003\"][\"mindist\"].values.mean())\n",
    "sns.histplot(aux_df[aux_df[\"sample_id\"] == \"GS003\"][\"mindist\"].values, kde=True, bins=30)"
   ]
  },
  {
   "cell_type": "code",
   "execution_count": 110,
   "id": "9365ed5d",
   "metadata": {},
   "outputs": [],
   "source": [
    "sv1 = omh_min_GS003_GS005_df.merge(read_ids_df, how='left', on=\"read_id\")\n",
    "sv1 = sv1[sv1[\"sample_id\"] == \"GS003\"][\"mindist\"].values\n",
    "sv2 = omh_min_GS003_GS037_df.merge(read_ids_df, how='left', on=\"read_id\")\n",
    "sv2 = sv2[sv2[\"sample_id\"] == \"GS003\"][\"mindist\"].values"
   ]
  },
  {
   "cell_type": "code",
   "execution_count": null,
   "id": "b054c494",
   "metadata": {},
   "outputs": [],
   "source": []
  },
  {
   "cell_type": "code",
   "execution_count": null,
   "id": "3c35d0a7",
   "metadata": {},
   "outputs": [],
   "source": []
  },
  {
   "cell_type": "code",
   "execution_count": null,
   "id": "203dde42",
   "metadata": {},
   "outputs": [],
   "source": [
    "mash_GS003_GS005_df = pd.read_csv(\"../distances/mash-k10-s100/GS003_GS005.dist.gz\", sep=\"\\t\", header=None, \n",
    "                                  compression=\"gzip\", low_memory=True)\n",
    "print(mash_GS003_GS005_df.shape)\n",
    "mash_GS003_GS005_df.head()"
   ]
  },
  {
   "cell_type": "code",
   "execution_count": 9,
   "id": "3df9e235",
   "metadata": {},
   "outputs": [
    {
     "data": {
      "text/html": [
       "<div>\n",
       "<style scoped>\n",
       "    .dataframe tbody tr th:only-of-type {\n",
       "        vertical-align: middle;\n",
       "    }\n",
       "\n",
       "    .dataframe tbody tr th {\n",
       "        vertical-align: top;\n",
       "    }\n",
       "\n",
       "    .dataframe thead th {\n",
       "        text-align: right;\n",
       "    }\n",
       "</style>\n",
       "<table border=\"1\" class=\"dataframe\">\n",
       "  <thead>\n",
       "    <tr style=\"text-align: right;\">\n",
       "      <th></th>\n",
       "      <th>0</th>\n",
       "      <th>1</th>\n",
       "      <th>2</th>\n",
       "      <th>3</th>\n",
       "      <th>4</th>\n",
       "    </tr>\n",
       "  </thead>\n",
       "  <tbody>\n",
       "    <tr>\n",
       "      <th>0</th>\n",
       "      <td>JCVI_READ_1091145030183</td>\n",
       "      <td>JCVI_READ_1096013066145</td>\n",
       "      <td>1.0</td>\n",
       "      <td>1.0</td>\n",
       "      <td>0/10</td>\n",
       "    </tr>\n",
       "    <tr>\n",
       "      <th>1</th>\n",
       "      <td>JCVI_READ_1095403403926</td>\n",
       "      <td>JCVI_READ_1096013066145</td>\n",
       "      <td>1.0</td>\n",
       "      <td>1.0</td>\n",
       "      <td>0/10</td>\n",
       "    </tr>\n",
       "    <tr>\n",
       "      <th>2</th>\n",
       "      <td>JCVI_READ_1095403478765</td>\n",
       "      <td>JCVI_READ_1096013066145</td>\n",
       "      <td>1.0</td>\n",
       "      <td>1.0</td>\n",
       "      <td>0/10</td>\n",
       "    </tr>\n",
       "    <tr>\n",
       "      <th>3</th>\n",
       "      <td>JCVI_READ_1095403421433</td>\n",
       "      <td>JCVI_READ_1096013066145</td>\n",
       "      <td>1.0</td>\n",
       "      <td>1.0</td>\n",
       "      <td>0/10</td>\n",
       "    </tr>\n",
       "    <tr>\n",
       "      <th>4</th>\n",
       "      <td>JCVI_READ_1095403403927</td>\n",
       "      <td>JCVI_READ_1096013066145</td>\n",
       "      <td>1.0</td>\n",
       "      <td>1.0</td>\n",
       "      <td>0/10</td>\n",
       "    </tr>\n",
       "    <tr>\n",
       "      <th>...</th>\n",
       "      <td>...</td>\n",
       "      <td>...</td>\n",
       "      <td>...</td>\n",
       "      <td>...</td>\n",
       "      <td>...</td>\n",
       "    </tr>\n",
       "    <tr>\n",
       "      <th>999995</th>\n",
       "      <td>JCVI_READ_1091145052303</td>\n",
       "      <td>JCVI_READ_1095964451152</td>\n",
       "      <td>1.0</td>\n",
       "      <td>1.0</td>\n",
       "      <td>0/10</td>\n",
       "    </tr>\n",
       "    <tr>\n",
       "      <th>999996</th>\n",
       "      <td>JCVI_READ_1091143440212</td>\n",
       "      <td>JCVI_READ_1095964451152</td>\n",
       "      <td>1.0</td>\n",
       "      <td>1.0</td>\n",
       "      <td>0/10</td>\n",
       "    </tr>\n",
       "    <tr>\n",
       "      <th>999997</th>\n",
       "      <td>JCVI_READ_1091143440214</td>\n",
       "      <td>JCVI_READ_1095964451152</td>\n",
       "      <td>1.0</td>\n",
       "      <td>1.0</td>\n",
       "      <td>0/10</td>\n",
       "    </tr>\n",
       "    <tr>\n",
       "      <th>999998</th>\n",
       "      <td>JCVI_READ_1091145269177</td>\n",
       "      <td>JCVI_READ_1095964451152</td>\n",
       "      <td>1.0</td>\n",
       "      <td>1.0</td>\n",
       "      <td>0/10</td>\n",
       "    </tr>\n",
       "    <tr>\n",
       "      <th>999999</th>\n",
       "      <td>JCVI_READ_1091143448664</td>\n",
       "      <td>JCVI_READ_1095964451152</td>\n",
       "      <td>1.0</td>\n",
       "      <td>1.0</td>\n",
       "      <td>0/10</td>\n",
       "    </tr>\n",
       "  </tbody>\n",
       "</table>\n",
       "<p>1000000 rows × 5 columns</p>\n",
       "</div>"
      ],
      "text/plain": [
       "                              0                        1    2    3     4\n",
       "0       JCVI_READ_1091145030183  JCVI_READ_1096013066145  1.0  1.0  0/10\n",
       "1       JCVI_READ_1095403403926  JCVI_READ_1096013066145  1.0  1.0  0/10\n",
       "2       JCVI_READ_1095403478765  JCVI_READ_1096013066145  1.0  1.0  0/10\n",
       "3       JCVI_READ_1095403421433  JCVI_READ_1096013066145  1.0  1.0  0/10\n",
       "4       JCVI_READ_1095403403927  JCVI_READ_1096013066145  1.0  1.0  0/10\n",
       "...                         ...                      ...  ...  ...   ...\n",
       "999995  JCVI_READ_1091145052303  JCVI_READ_1095964451152  1.0  1.0  0/10\n",
       "999996  JCVI_READ_1091143440212  JCVI_READ_1095964451152  1.0  1.0  0/10\n",
       "999997  JCVI_READ_1091143440214  JCVI_READ_1095964451152  1.0  1.0  0/10\n",
       "999998  JCVI_READ_1091145269177  JCVI_READ_1095964451152  1.0  1.0  0/10\n",
       "999999  JCVI_READ_1091143448664  JCVI_READ_1095964451152  1.0  1.0  0/10\n",
       "\n",
       "[1000000 rows x 5 columns]"
      ]
     },
     "execution_count": 9,
     "metadata": {},
     "output_type": "execute_result"
    }
   ],
   "source": [
    "GS003_GS037_df = pd.read_csv(\"../distances/mash-k10-s10/GS003_GS037.dist\", sep=\"\\t\", header=None)\n",
    "GS003_GS037_df"
   ]
  },
  {
   "cell_type": "code",
   "execution_count": 23,
   "id": "8410a30e",
   "metadata": {},
   "outputs": [
    {
     "data": {
      "text/html": [
       "<div>\n",
       "<style scoped>\n",
       "    .dataframe tbody tr th:only-of-type {\n",
       "        vertical-align: middle;\n",
       "    }\n",
       "\n",
       "    .dataframe tbody tr th {\n",
       "        vertical-align: top;\n",
       "    }\n",
       "\n",
       "    .dataframe thead th {\n",
       "        text-align: right;\n",
       "    }\n",
       "</style>\n",
       "<table border=\"1\" class=\"dataframe\">\n",
       "  <thead>\n",
       "    <tr style=\"text-align: right;\">\n",
       "      <th></th>\n",
       "      <th>0</th>\n",
       "      <th>1</th>\n",
       "      <th>2</th>\n",
       "      <th>3</th>\n",
       "      <th>4</th>\n",
       "    </tr>\n",
       "  </thead>\n",
       "  <tbody>\n",
       "    <tr>\n",
       "      <th>0</th>\n",
       "      <td>JCVI_READ_1091150264015</td>\n",
       "      <td>JCVI_READ_1096013066145</td>\n",
       "      <td>1.0</td>\n",
       "      <td>1.0</td>\n",
       "      <td>0/10</td>\n",
       "    </tr>\n",
       "    <tr>\n",
       "      <th>1</th>\n",
       "      <td>JCVI_READ_1091150264020</td>\n",
       "      <td>JCVI_READ_1096013066145</td>\n",
       "      <td>1.0</td>\n",
       "      <td>1.0</td>\n",
       "      <td>0/10</td>\n",
       "    </tr>\n",
       "    <tr>\n",
       "      <th>2</th>\n",
       "      <td>JCVI_READ_1091150264027</td>\n",
       "      <td>JCVI_READ_1096013066145</td>\n",
       "      <td>1.0</td>\n",
       "      <td>1.0</td>\n",
       "      <td>0/10</td>\n",
       "    </tr>\n",
       "    <tr>\n",
       "      <th>3</th>\n",
       "      <td>JCVI_READ_1091150264052</td>\n",
       "      <td>JCVI_READ_1096013066145</td>\n",
       "      <td>1.0</td>\n",
       "      <td>1.0</td>\n",
       "      <td>0/10</td>\n",
       "    </tr>\n",
       "    <tr>\n",
       "      <th>4</th>\n",
       "      <td>JCVI_READ_1091150264056</td>\n",
       "      <td>JCVI_READ_1096013066145</td>\n",
       "      <td>1.0</td>\n",
       "      <td>1.0</td>\n",
       "      <td>0/10</td>\n",
       "    </tr>\n",
       "    <tr>\n",
       "      <th>...</th>\n",
       "      <td>...</td>\n",
       "      <td>...</td>\n",
       "      <td>...</td>\n",
       "      <td>...</td>\n",
       "      <td>...</td>\n",
       "    </tr>\n",
       "    <tr>\n",
       "      <th>999995</th>\n",
       "      <td>JCVI_READ_1091143675531</td>\n",
       "      <td>JCVI_READ_1095964451152</td>\n",
       "      <td>1.0</td>\n",
       "      <td>1.0</td>\n",
       "      <td>0/10</td>\n",
       "    </tr>\n",
       "    <tr>\n",
       "      <th>999996</th>\n",
       "      <td>JCVI_READ_1091143675553</td>\n",
       "      <td>JCVI_READ_1095964451152</td>\n",
       "      <td>1.0</td>\n",
       "      <td>1.0</td>\n",
       "      <td>0/10</td>\n",
       "    </tr>\n",
       "    <tr>\n",
       "      <th>999997</th>\n",
       "      <td>JCVI_READ_1091143675564</td>\n",
       "      <td>JCVI_READ_1095964451152</td>\n",
       "      <td>1.0</td>\n",
       "      <td>1.0</td>\n",
       "      <td>0/10</td>\n",
       "    </tr>\n",
       "    <tr>\n",
       "      <th>999998</th>\n",
       "      <td>JCVI_READ_1091145300723</td>\n",
       "      <td>JCVI_READ_1095964451152</td>\n",
       "      <td>1.0</td>\n",
       "      <td>1.0</td>\n",
       "      <td>0/10</td>\n",
       "    </tr>\n",
       "    <tr>\n",
       "      <th>999999</th>\n",
       "      <td>JCVI_READ_1091145300735</td>\n",
       "      <td>JCVI_READ_1095964451152</td>\n",
       "      <td>1.0</td>\n",
       "      <td>1.0</td>\n",
       "      <td>0/10</td>\n",
       "    </tr>\n",
       "  </tbody>\n",
       "</table>\n",
       "<p>1000000 rows × 5 columns</p>\n",
       "</div>"
      ],
      "text/plain": [
       "                              0                        1    2    3     4\n",
       "0       JCVI_READ_1091150264015  JCVI_READ_1096013066145  1.0  1.0  0/10\n",
       "1       JCVI_READ_1091150264020  JCVI_READ_1096013066145  1.0  1.0  0/10\n",
       "2       JCVI_READ_1091150264027  JCVI_READ_1096013066145  1.0  1.0  0/10\n",
       "3       JCVI_READ_1091150264052  JCVI_READ_1096013066145  1.0  1.0  0/10\n",
       "4       JCVI_READ_1091150264056  JCVI_READ_1096013066145  1.0  1.0  0/10\n",
       "...                         ...                      ...  ...  ...   ...\n",
       "999995  JCVI_READ_1091143675531  JCVI_READ_1095964451152  1.0  1.0  0/10\n",
       "999996  JCVI_READ_1091143675553  JCVI_READ_1095964451152  1.0  1.0  0/10\n",
       "999997  JCVI_READ_1091143675564  JCVI_READ_1095964451152  1.0  1.0  0/10\n",
       "999998  JCVI_READ_1091145300723  JCVI_READ_1095964451152  1.0  1.0  0/10\n",
       "999999  JCVI_READ_1091145300735  JCVI_READ_1095964451152  1.0  1.0  0/10\n",
       "\n",
       "[1000000 rows x 5 columns]"
      ]
     },
     "execution_count": 23,
     "metadata": {},
     "output_type": "execute_result"
    }
   ],
   "source": [
    "GS005_GS037_df = pd.read_csv(\"../distances/mash-k10-s10/GS005_GS037.dist\", sep=\"\\t\", header=None)\n",
    "GS005_GS037_df"
   ]
  },
  {
   "cell_type": "code",
   "execution_count": 28,
   "id": "aa89e0b7",
   "metadata": {},
   "outputs": [
    {
     "name": "stdout",
     "output_type": "stream",
     "text": [
      "0.1542038675\n"
     ]
    },
    {
     "data": {
      "text/plain": [
       "<AxesSubplot:ylabel='Count'>"
      ]
     },
     "execution_count": 28,
     "metadata": {},
     "output_type": "execute_result"
    },
    {
     "data": {
      "image/png": "[encoded data removed]",
      "text/plain": [
       "<Figure size 432x288 with 1 Axes>"
      ]
     },
     "metadata": {
      "needs_background": "light"
     },
     "output_type": "display_data"
    }
   ],
   "source": [
    "print(GS003_GS005_df.groupby(0)[2].min().values.mean())\n",
    "sns.histplot(data=GS003_GS005_df.groupby(0)[2].min().values, kde=True)"
   ]
  },
  {
   "cell_type": "code",
   "execution_count": 31,
   "id": "32d8eebc",
   "metadata": {},
   "outputs": [
    {
     "name": "stdout",
     "output_type": "stream",
     "text": [
      "0.1574164095\n"
     ]
    },
    {
     "data": {
      "text/plain": [
       "<AxesSubplot:ylabel='Count'>"
      ]
     },
     "execution_count": 31,
     "metadata": {},
     "output_type": "execute_result"
    },
    {
     "data": {
      "image/png": "[encoded data removed]",
      "text/plain": [
       "<Figure size 432x288 with 1 Axes>"
      ]
     },
     "metadata": {
      "needs_background": "light"
     },
     "output_type": "display_data"
    }
   ],
   "source": [
    "print(GS003_GS005_df.groupby(1)[2].min().values.mean())\n",
    "sns.histplot(data=GS003_GS005_df.groupby(1)[2].min().values, kde=True)"
   ]
  },
  {
   "cell_type": "code",
   "execution_count": 29,
   "id": "97f7abfd",
   "metadata": {},
   "outputs": [
    {
     "name": "stdout",
     "output_type": "stream",
     "text": [
      "0.160084327\n"
     ]
    },
    {
     "data": {
      "text/plain": [
       "<AxesSubplot:ylabel='Count'>"
      ]
     },
     "execution_count": 29,
     "metadata": {},
     "output_type": "execute_result"
    },
    {
     "data": {
      "image/png": "[encoded data removed]",
      "text/plain": [
       "<Figure size 432x288 with 1 Axes>"
      ]
     },
     "metadata": {
      "needs_background": "light"
     },
     "output_type": "display_data"
    }
   ],
   "source": [
    "print(GS003_GS037_df.groupby(0)[2].min().values.mean())\n",
    "sns.histplot(data=GS003_GS037_df.groupby(0)[2].min().values, kde=True)"
   ]
  },
  {
   "cell_type": "code",
   "execution_count": 32,
   "id": "14f0525d",
   "metadata": {},
   "outputs": [
    {
     "name": "stdout",
     "output_type": "stream",
     "text": [
      "0.150426428\n"
     ]
    },
    {
     "data": {
      "text/plain": [
       "<AxesSubplot:ylabel='Count'>"
      ]
     },
     "execution_count": 32,
     "metadata": {},
     "output_type": "execute_result"
    },
    {
     "data": {
      "image/png": "[encoded data removed]",
      "text/plain": [
       "<Figure size 432x288 with 1 Axes>"
      ]
     },
     "metadata": {
      "needs_background": "light"
     },
     "output_type": "display_data"
    }
   ],
   "source": [
    "print(GS003_GS037_df.groupby(1)[2].min().values.mean())\n",
    "sns.histplot(data=GS003_GS037_df.groupby(1)[2].min().values, kde=True)"
   ]
  },
  {
   "cell_type": "code",
   "execution_count": 30,
   "id": "bfe3bd99",
   "metadata": {},
   "outputs": [
    {
     "name": "stdout",
     "output_type": "stream",
     "text": [
      "0.1654171872\n"
     ]
    },
    {
     "data": {
      "text/plain": [
       "<AxesSubplot:ylabel='Count'>"
      ]
     },
     "execution_count": 30,
     "metadata": {},
     "output_type": "execute_result"
    },
    {
     "data": {
      "image/png": "[encoded data removed]",
      "text/plain": [
       "<Figure size 432x288 with 1 Axes>"
      ]
     },
     "metadata": {
      "needs_background": "light"
     },
     "output_type": "display_data"
    }
   ],
   "source": [
    "print(GS005_GS037_df.groupby(0)[2].min().values.mean())\n",
    "sns.histplot(data=GS005_GS037_df.groupby(0)[2].min().values, kde=True)"
   ]
  },
  {
   "cell_type": "markdown",
   "id": "9c5798bd",
   "metadata": {},
   "source": [
    "# OMH"
   ]
  },
  {
   "cell_type": "code",
   "execution_count": 38,
   "id": "0110419b",
   "metadata": {},
   "outputs": [
    {
     "data": {
      "text/html": [
       "<div>\n",
       "<style scoped>\n",
       "    .dataframe tbody tr th:only-of-type {\n",
       "        vertical-align: middle;\n",
       "    }\n",
       "\n",
       "    .dataframe tbody tr th {\n",
       "        vertical-align: top;\n",
       "    }\n",
       "\n",
       "    .dataframe thead th {\n",
       "        text-align: right;\n",
       "    }\n",
       "</style>\n",
       "<table border=\"1\" class=\"dataframe\">\n",
       "  <thead>\n",
       "    <tr style=\"text-align: right;\">\n",
       "      <th></th>\n",
       "      <th>0</th>\n",
       "      <th>1</th>\n",
       "      <th>2</th>\n",
       "    </tr>\n",
       "  </thead>\n",
       "  <tbody>\n",
       "    <tr>\n",
       "      <th>0</th>\n",
       "      <td>JCVI_READ_1091145030183</td>\n",
       "      <td>JCVI_READ_1091150264015</td>\n",
       "      <td>0.0</td>\n",
       "    </tr>\n",
       "    <tr>\n",
       "      <th>1</th>\n",
       "      <td>JCVI_READ_1091145030183</td>\n",
       "      <td>JCVI_READ_1091150264020</td>\n",
       "      <td>0.0</td>\n",
       "    </tr>\n",
       "    <tr>\n",
       "      <th>2</th>\n",
       "      <td>JCVI_READ_1091145030183</td>\n",
       "      <td>JCVI_READ_1091150264027</td>\n",
       "      <td>0.0</td>\n",
       "    </tr>\n",
       "    <tr>\n",
       "      <th>3</th>\n",
       "      <td>JCVI_READ_1091145030183</td>\n",
       "      <td>JCVI_READ_1091150264052</td>\n",
       "      <td>0.0</td>\n",
       "    </tr>\n",
       "    <tr>\n",
       "      <th>4</th>\n",
       "      <td>JCVI_READ_1091145030183</td>\n",
       "      <td>JCVI_READ_1091150264056</td>\n",
       "      <td>0.0</td>\n",
       "    </tr>\n",
       "    <tr>\n",
       "      <th>...</th>\n",
       "      <td>...</td>\n",
       "      <td>...</td>\n",
       "      <td>...</td>\n",
       "    </tr>\n",
       "    <tr>\n",
       "      <th>999995</th>\n",
       "      <td>JCVI_READ_1091143448664</td>\n",
       "      <td>JCVI_READ_1091143675531</td>\n",
       "      <td>0.0</td>\n",
       "    </tr>\n",
       "    <tr>\n",
       "      <th>999996</th>\n",
       "      <td>JCVI_READ_1091143448664</td>\n",
       "      <td>JCVI_READ_1091143675553</td>\n",
       "      <td>0.0</td>\n",
       "    </tr>\n",
       "    <tr>\n",
       "      <th>999997</th>\n",
       "      <td>JCVI_READ_1091143448664</td>\n",
       "      <td>JCVI_READ_1091143675564</td>\n",
       "      <td>0.0</td>\n",
       "    </tr>\n",
       "    <tr>\n",
       "      <th>999998</th>\n",
       "      <td>JCVI_READ_1091143448664</td>\n",
       "      <td>JCVI_READ_1091145300723</td>\n",
       "      <td>0.0</td>\n",
       "    </tr>\n",
       "    <tr>\n",
       "      <th>999999</th>\n",
       "      <td>JCVI_READ_1091143448664</td>\n",
       "      <td>JCVI_READ_1091145300735</td>\n",
       "      <td>0.0</td>\n",
       "    </tr>\n",
       "  </tbody>\n",
       "</table>\n",
       "<p>1000000 rows × 3 columns</p>\n",
       "</div>"
      ],
      "text/plain": [
       "                              0                        1    2\n",
       "0       JCVI_READ_1091145030183  JCVI_READ_1091150264015  0.0\n",
       "1       JCVI_READ_1091145030183  JCVI_READ_1091150264020  0.0\n",
       "2       JCVI_READ_1091145030183  JCVI_READ_1091150264027  0.0\n",
       "3       JCVI_READ_1091145030183  JCVI_READ_1091150264052  0.0\n",
       "4       JCVI_READ_1091145030183  JCVI_READ_1091150264056  0.0\n",
       "...                         ...                      ...  ...\n",
       "999995  JCVI_READ_1091143448664  JCVI_READ_1091143675531  0.0\n",
       "999996  JCVI_READ_1091143448664  JCVI_READ_1091143675553  0.0\n",
       "999997  JCVI_READ_1091143448664  JCVI_READ_1091143675564  0.0\n",
       "999998  JCVI_READ_1091143448664  JCVI_READ_1091145300723  0.0\n",
       "999999  JCVI_READ_1091143448664  JCVI_READ_1091145300735  0.0\n",
       "\n",
       "[1000000 rows x 3 columns]"
      ]
     },
     "execution_count": 38,
     "metadata": {},
     "output_type": "execute_result"
    }
   ],
   "source": [
    "omh_GS003_GS005_df = pd.read_csv(\"../distances/omh-k10-l1-m10//GS003_GS005.dist\", sep=\" \", header=None)\n",
    "omh_GS003_GS005_df"
   ]
  },
  {
   "cell_type": "code",
   "execution_count": 39,
   "id": "58da169d",
   "metadata": {},
   "outputs": [
    {
     "data": {
      "text/html": [
       "<div>\n",
       "<style scoped>\n",
       "    .dataframe tbody tr th:only-of-type {\n",
       "        vertical-align: middle;\n",
       "    }\n",
       "\n",
       "    .dataframe tbody tr th {\n",
       "        vertical-align: top;\n",
       "    }\n",
       "\n",
       "    .dataframe thead th {\n",
       "        text-align: right;\n",
       "    }\n",
       "</style>\n",
       "<table border=\"1\" class=\"dataframe\">\n",
       "  <thead>\n",
       "    <tr style=\"text-align: right;\">\n",
       "      <th></th>\n",
       "      <th>0</th>\n",
       "      <th>1</th>\n",
       "      <th>2</th>\n",
       "    </tr>\n",
       "  </thead>\n",
       "  <tbody>\n",
       "    <tr>\n",
       "      <th>0</th>\n",
       "      <td>JCVI_READ_1091145030183</td>\n",
       "      <td>JCVI_READ_1096013066145</td>\n",
       "      <td>0.0</td>\n",
       "    </tr>\n",
       "    <tr>\n",
       "      <th>1</th>\n",
       "      <td>JCVI_READ_1091145030183</td>\n",
       "      <td>JCVI_READ_1095994149980</td>\n",
       "      <td>0.0</td>\n",
       "    </tr>\n",
       "    <tr>\n",
       "      <th>2</th>\n",
       "      <td>JCVI_READ_1091145030183</td>\n",
       "      <td>JCVI_READ_1096013056107</td>\n",
       "      <td>0.0</td>\n",
       "    </tr>\n",
       "    <tr>\n",
       "      <th>3</th>\n",
       "      <td>JCVI_READ_1091145030183</td>\n",
       "      <td>JCVI_READ_1095994149981</td>\n",
       "      <td>0.0</td>\n",
       "    </tr>\n",
       "    <tr>\n",
       "      <th>4</th>\n",
       "      <td>JCVI_READ_1091145030183</td>\n",
       "      <td>JCVI_READ_1095994158268</td>\n",
       "      <td>0.0</td>\n",
       "    </tr>\n",
       "    <tr>\n",
       "      <th>...</th>\n",
       "      <td>...</td>\n",
       "      <td>...</td>\n",
       "      <td>...</td>\n",
       "    </tr>\n",
       "    <tr>\n",
       "      <th>999995</th>\n",
       "      <td>JCVI_READ_1091143448664</td>\n",
       "      <td>JCVI_READ_1095964696530</td>\n",
       "      <td>0.0</td>\n",
       "    </tr>\n",
       "    <tr>\n",
       "      <th>999996</th>\n",
       "      <td>JCVI_READ_1091143448664</td>\n",
       "      <td>JCVI_READ_1095978337520</td>\n",
       "      <td>0.0</td>\n",
       "    </tr>\n",
       "    <tr>\n",
       "      <th>999997</th>\n",
       "      <td>JCVI_READ_1091143448664</td>\n",
       "      <td>JCVI_READ_1095964451135</td>\n",
       "      <td>0.0</td>\n",
       "    </tr>\n",
       "    <tr>\n",
       "      <th>999998</th>\n",
       "      <td>JCVI_READ_1091143448664</td>\n",
       "      <td>JCVI_READ_1095964452863</td>\n",
       "      <td>0.0</td>\n",
       "    </tr>\n",
       "    <tr>\n",
       "      <th>999999</th>\n",
       "      <td>JCVI_READ_1091143448664</td>\n",
       "      <td>JCVI_READ_1095964451152</td>\n",
       "      <td>0.0</td>\n",
       "    </tr>\n",
       "  </tbody>\n",
       "</table>\n",
       "<p>1000000 rows × 3 columns</p>\n",
       "</div>"
      ],
      "text/plain": [
       "                              0                        1    2\n",
       "0       JCVI_READ_1091145030183  JCVI_READ_1096013066145  0.0\n",
       "1       JCVI_READ_1091145030183  JCVI_READ_1095994149980  0.0\n",
       "2       JCVI_READ_1091145030183  JCVI_READ_1096013056107  0.0\n",
       "3       JCVI_READ_1091145030183  JCVI_READ_1095994149981  0.0\n",
       "4       JCVI_READ_1091145030183  JCVI_READ_1095994158268  0.0\n",
       "...                         ...                      ...  ...\n",
       "999995  JCVI_READ_1091143448664  JCVI_READ_1095964696530  0.0\n",
       "999996  JCVI_READ_1091143448664  JCVI_READ_1095978337520  0.0\n",
       "999997  JCVI_READ_1091143448664  JCVI_READ_1095964451135  0.0\n",
       "999998  JCVI_READ_1091143448664  JCVI_READ_1095964452863  0.0\n",
       "999999  JCVI_READ_1091143448664  JCVI_READ_1095964451152  0.0\n",
       "\n",
       "[1000000 rows x 3 columns]"
      ]
     },
     "execution_count": 39,
     "metadata": {},
     "output_type": "execute_result"
    }
   ],
   "source": [
    "omh_GS003_GS037_df = pd.read_csv(\"../distances/omh-k10-l1-m10//GS003_GS037.dist\", sep=\" \", header=None)\n",
    "omh_GS003_GS037_df"
   ]
  },
  {
   "cell_type": "code",
   "execution_count": 44,
   "id": "92063d66",
   "metadata": {},
   "outputs": [
    {
     "name": "stdout",
     "output_type": "stream",
     "text": [
      "0.11080000000000002\n"
     ]
    },
    {
     "data": {
      "text/plain": [
       "<AxesSubplot:ylabel='Count'>"
      ]
     },
     "execution_count": 44,
     "metadata": {},
     "output_type": "execute_result"
    },
    {
     "data": {
      "image/png": "[encoded data removed]",
      "text/plain": [
       "<Figure size 432x288 with 1 Axes>"
      ]
     },
     "metadata": {
      "needs_background": "light"
     },
     "output_type": "display_data"
    }
   ],
   "source": [
    "print(omh_GS003_GS005_df.groupby(0)[2].max().values.mean())\n",
    "sns.histplot(data=omh_GS003_GS005_df.groupby(0)[2].max().values, kde=True)"
   ]
  },
  {
   "cell_type": "code",
   "execution_count": 46,
   "id": "329d574b",
   "metadata": {},
   "outputs": [
    {
     "name": "stdout",
     "output_type": "stream",
     "text": [
      "0.11120000000000002\n"
     ]
    },
    {
     "data": {
      "text/plain": [
       "<AxesSubplot:ylabel='Count'>"
      ]
     },
     "execution_count": 46,
     "metadata": {},
     "output_type": "execute_result"
    },
    {
     "data": {
      "image/png": "[encoded data removed]",
      "text/plain": [
       "<Figure size 432x288 with 1 Axes>"
      ]
     },
     "metadata": {
      "needs_background": "light"
     },
     "output_type": "display_data"
    }
   ],
   "source": [
    "print(omh_GS003_GS005_df.groupby(1)[2].max().values.mean())\n",
    "sns.histplot(data=omh_GS003_GS005_df.groupby(1)[2].max().values, kde=True)"
   ]
  },
  {
   "cell_type": "code",
   "execution_count": 45,
   "id": "fb34419d",
   "metadata": {},
   "outputs": [
    {
     "name": "stdout",
     "output_type": "stream",
     "text": [
      "0.11160000000000002\n"
     ]
    },
    {
     "data": {
      "text/plain": [
       "<AxesSubplot:ylabel='Count'>"
      ]
     },
     "execution_count": 45,
     "metadata": {},
     "output_type": "execute_result"
    },
    {
     "data": {
      "image/png": "[encoded data removed]",
      "text/plain": [
       "<Figure size 432x288 with 1 Axes>"
      ]
     },
     "metadata": {
      "needs_background": "light"
     },
     "output_type": "display_data"
    }
   ],
   "source": [
    "print(omh_GS003_GS037_df.groupby(0)[2].max().values.mean())\n",
    "sns.histplot(data=omh_GS003_GS037_df.groupby(0)[2].max().values, kde=True)"
   ]
  },
  {
   "cell_type": "code",
   "execution_count": null,
   "id": "03ebc6c3",
   "metadata": {},
   "outputs": [],
   "source": []
  }
 ],
 "metadata": {
  "kernelspec": {
   "display_name": "Python 3 (ipykernel)",
   "language": "python",
   "name": "python3"
  },
  "language_info": {
   "codemirror_mode": {
    "name": "ipython",
    "version": 3
   },
   "file_extension": ".py",
   "mimetype": "text/x-python",
   "name": "python",
   "nbconvert_exporter": "python",
   "pygments_lexer": "ipython3",
   "version": "3.8.12"
  }
 },
 "nbformat": 4,
 "nbformat_minor": 5
}
